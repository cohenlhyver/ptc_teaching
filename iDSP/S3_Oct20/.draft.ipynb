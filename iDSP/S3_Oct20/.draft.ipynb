{
 "cells": [
  {
   "cell_type": "code",
   "execution_count": null,
   "metadata": {},
   "outputs": [],
   "source": [
    "\n",
    "nb_samples = 400\n",
    "\n",
    "# --- Matrice de covariance désirée\n",
    "r = np.array([\n",
    "        [  3.40, -2.75, -2.00],\n",
    "        [ -2.75,  5.50,  1.50],\n",
    "        [ -2.00,  1.50,  1.25]\n",
    "    ])\n",
    "\n",
    "\n",
    "# --- Génération de trois variables aléatoires suivant une loi Normale\n",
    "# --- (moyenne 0 et écart-type 1)\n",
    "x = norm.rvs(size=(3, nb_samples))\n",
    "\n",
    "c = cholesky(r, lower=True)\n",
    "\n",
    "# --- Inclusion de la corrélation des données\n",
    "y = np.dot(c, x)\n",
    "\n",
    "\n",
    "nb_samples = 400\n",
    "\n",
    "# --- Matrice de covariance désirée\n",
    "r = np.array([\n",
    "        [  3.40, -2.75, -2.00],\n",
    "        [ -2.75,  5.50,  1.50],\n",
    "        [ -2.00,  1.50,  1.25]\n",
    "    ])\n",
    "\n",
    "\n",
    "# --- Génération de trois variables aléatoires suivant une loi Normale\n",
    "# --- (moyenne 0 et écart-type 1)\n",
    "x = norm.rvs(size=(3, nb_samples))\n",
    "\n",
    "c = cholesky(r, lower=True)\n",
    "\n",
    "# --- Inclusion de la corrélation des données\n",
    "#y = np.dot(c, x)\n",
    "\n"
   ]
  }
 ],
 "metadata": {
  "kernelspec": {
   "display_name": "Python 3",
   "language": "python",
   "name": "python3"
  },
  "language_info": {
   "codemirror_mode": {
    "name": "ipython",
    "version": 3
   },
   "file_extension": ".py",
   "mimetype": "text/x-python",
   "name": "python",
   "nbconvert_exporter": "python",
   "pygments_lexer": "ipython3",
   "version": "3.7.7"
  }
 },
 "nbformat": 4,
 "nbformat_minor": 4
}
