{
 "cells": [
  {
   "cell_type": "markdown",
   "metadata": {},
   "source": [
    "<font size=\"6\"><strong>Career Booster Python & Data Science</font></strong><br /><br />\n",
    "<font size=\"6\">Session 1</font><br /><br />"
   ]
  },
  {
   "cell_type": "markdown",
   "metadata": {},
   "source": [
    "<font size=\"5\"><u>Description</u></font><br /><br />\n",
    "\n",
    "Wikipedia : <i>\n",
    "Python est un langage de programmation interprété, multi-paradigme et multiplateformes. Il favorise la programmation impérative structurée, fonctionnelle et orientée objet. Il est doté d'un typage dynamique fort, d'une gestion automatique de la mémoire par ramasse-miettes et d'un système de gestion d'exceptions ; il est ainsi similaire à Perl, Ruby, Scheme, Smalltalk et Tcl.\n",
    "\n",
    "Le langage Python est placé sous une licence libre proche de la licence BSD et fonctionne sur la plupart des plates-formes informatiques, des smartphones aux ordinateurs centraux, de Windows à Unix avec notamment GNU/Linux en passant par macOS, ou encore Android, iOS, et peut aussi être traduit en Java ou .NET. Il est conçu pour optimiser la productivité des programmeurs en offrant des outils de haut niveau et une syntaxe simple à utiliser. </i>"
   ]
  },
  {
   "cell_type": "markdown",
   "metadata": {},
   "source": [
    "<hr size=\"30\">\n",
    "<font size=\"5\"><u>Introduction</u></font><br/><br/>\n",
    "\n",
    "<i>Variables :</i>"
   ]
  },
  {
   "cell_type": "code",
   "execution_count": 4,
   "metadata": {},
   "outputs": [
    {
     "name": "stdout",
     "output_type": "stream",
     "text": [
      "3\n"
     ]
    }
   ],
   "source": [
    "a = 3\n",
    "print(a)"
   ]
  },
  {
   "cell_type": "code",
   "execution_count": 5,
   "metadata": {},
   "outputs": [
    {
     "name": "stdout",
     "output_type": "stream",
     "text": [
      "2\n"
     ]
    }
   ],
   "source": [
    "b = a - 1\n",
    "print(b)"
   ]
  },
  {
   "cell_type": "code",
   "execution_count": 7,
   "metadata": {},
   "outputs": [
    {
     "name": "stdout",
     "output_type": "stream",
     "text": [
      "[1, 3, -3.12, 'BGFi', [-2, 4]]\n",
      "1\n",
      "[-2, 4]\n"
     ]
    }
   ],
   "source": [
    "c = [1, a, -3.12, 'BGFi', [-b, 4]]\n",
    "print(c)\n",
    "print(c[0])\n",
    "print(c[-1])"
   ]
  },
  {
   "cell_type": "markdown",
   "metadata": {},
   "source": [
    "<i><u>Chaînes de caractères</u></i><br/>\n",
    "Les chaînes des caractères sont également des objets. Ainsi, de nombreuses fonctions sont disponibles par défaut dès lors qu'un tel type de variable est créé."
   ]
  },
  {
   "cell_type": "code",
   "execution_count": 8,
   "metadata": {},
   "outputs": [
    {
     "name": "stdout",
     "output_type": "stream",
     "text": [
      "Bienvenue au CareerBooster !!!!!\n"
     ]
    }
   ],
   "source": [
    "a = \"au \"\n",
    "b = \"Career\"\n",
    "c = \"Booster\"\n",
    "d = \"!\"*5  # nous multiplions un caractère par 5 !\n",
    "print(\"Bienvenue \" + a + b + c + \" \" + d)\n",
    "#print(\"Bienvenue \" + a + \"{} {}\".format(b, c) + \" \" + d)\n",
    "#print(f\"Bienvenue {a} {b} {c} {d}\")"
   ]
  },
  {
   "cell_type": "code",
   "execution_count": 10,
   "metadata": {},
   "outputs": [
    {
     "name": "stdout",
     "output_type": "stream",
     "text": [
      "Bienvenue au career booster !\n"
     ]
    }
   ],
   "source": [
    "phrase = \"bienvenue au CarEEr Booster !\"\n",
    "phrase = phrase.capitalize()\n",
    "print(phrase)"
   ]
  },
  {
   "cell_type": "code",
   "execution_count": 13,
   "metadata": {},
   "outputs": [
    {
     "data": {
      "text/plain": [
       "True"
      ]
     },
     "execution_count": 13,
     "metadata": {},
     "output_type": "execute_result"
    }
   ],
   "source": [
    "phrase.endswith('booster !')"
   ]
  },
  {
   "cell_type": "code",
   "execution_count": 23,
   "metadata": {},
   "outputs": [
    {
     "data": {
      "text/plain": [
       "'booster !'"
      ]
     },
     "execution_count": 23,
     "metadata": {},
     "output_type": "execute_result"
    }
   ],
   "source": [
    "pos_boo = phrase.find('boo')\n",
    "phrase[pos_boo:]"
   ]
  },
  {
   "cell_type": "markdown",
   "metadata": {},
   "source": [
    "<i>Comment insérer un espace entre chaque élément d'une liste de mots ?</i>"
   ]
  },
  {
   "cell_type": "code",
   "execution_count": 29,
   "metadata": {},
   "outputs": [
    {
     "name": "stdout",
     "output_type": "stream",
     "text": [
      "Bienvenue au Career Booster !!!!!\n"
     ]
    }
   ],
   "source": [
    "tuple_mots = (\"Bienvenue\", \"au\", \"Career\", \"Booster\", \"!!!!!\")\n",
    "# Tout simplement en appelant la fonction join() \n",
    "# à partir du caractère ou de la chaîne de caractère que l'on souhaite insérer (un espace ici)\n",
    "phrase = \" \".join(tuple_mots)\n",
    "print(phrase)"
   ]
  },
  {
   "cell_type": "code",
   "execution_count": 30,
   "metadata": {},
   "outputs": [
    {
     "name": "stdout",
     "output_type": "stream",
     "text": [
      "Bienvenuecoucou aucoucou Careercoucou Boostercoucou !!!!!\n"
     ]
    }
   ],
   "source": [
    "phrase = \"coucou \".join(tuple_mots)\n",
    "print(phrase)"
   ]
  },
  {
   "cell_type": "markdown",
   "metadata": {},
   "source": [
    "<i><u>Listes</u></i><br/>\n",
    "Il est possible de mettre ce qu'on veut dans une liste, peu importe le type ou la taille !<br/>\n",
    "Par exemple, ci-dessous, le quatrième élément de la liste (l[3]) est une fonction !"
   ]
  },
  {
   "cell_type": "code",
   "execution_count": 48,
   "metadata": {},
   "outputs": [
    {
     "name": "stdout",
     "output_type": "stream",
     "text": [
      "[3, 1, 'Bonjour', <built-in function max>, -269]\n"
     ]
    }
   ],
   "source": [
    "l = [3, 1, 'Bonjour', max, 31-300]\n",
    "print(l)"
   ]
  },
  {
   "cell_type": "code",
   "execution_count": 37,
   "metadata": {},
   "outputs": [
    {
     "data": {
      "text/plain": [
       "3"
      ]
     },
     "execution_count": 37,
     "metadata": {},
     "output_type": "execute_result"
    }
   ],
   "source": [
    "l[-2]([1, 2, 3, 0]) # l[-2] désigne l'avant-dernier élément de la liste, i.e. la fonction 'max' ici"
   ]
  },
  {
   "cell_type": "code",
   "execution_count": 38,
   "metadata": {},
   "outputs": [
    {
     "name": "stdout",
     "output_type": "stream",
     "text": [
      "[0]\n",
      "[0, 1]\n",
      "[0, 1, 2]\n",
      "[0, 1, 2, 3]\n",
      "[0, 1, 2, 3, 4]\n",
      "[0, 1, 2, 3, 4, 5]\n",
      "[0, 1, 2, 3, 4, 5, 6]\n",
      "[0, 1, 2, 3, 4, 5, 6, 7]\n",
      "[0, 1, 2, 3, 4, 5, 6, 7, 8]\n",
      "[0, 1, 2, 3, 4, 5, 6, 7, 8, 9]\n"
     ]
    }
   ],
   "source": [
    "l = [] # on peut également écrire l = list()\n",
    "for iIter in range(0, 10):\n",
    "    l.append(iIter) # la fonction 'append' permet d'ajouter des éléments à la fin\n",
    "    print(l)"
   ]
  },
  {
   "cell_type": "code",
   "execution_count": 39,
   "metadata": {},
   "outputs": [
    {
     "name": "stdout",
     "output_type": "stream",
     "text": [
      "[0, 1, 2, 3, 4, 5, 6, 7, 8]\n"
     ]
    }
   ],
   "source": [
    "l.pop() # retire le dernier élément d'une liste\n",
    "print(l)"
   ]
  },
  {
   "cell_type": "code",
   "execution_count": null,
   "metadata": {},
   "outputs": [],
   "source": [
    "t = ('un', 'deux', 'trois')\n",
    "it = iter(t) # un itérateur\n",
    "print(next(it)) # sort l'élément 1\n",
    "print(next(it)) # sort l'élément 2\n",
    "print(next(it)) # sort l'élément 3\n",
    "print('...')\n",
    "print(next(it)) # sort l'élément 4... qui n'existe pas..."
   ]
  },
  {
   "cell_type": "markdown",
   "metadata": {},
   "source": [
    "<font size=\"5\"><u>Les dictionnaires</u></font><br /><br />\n",
    "\n",
    "Les dictionnaires sont un format de données très \"pythoniques\".<br />\n",
    "Il s'agit d'un \"objet conteneur\" (comme les listes) mais n'ayant pas de structure ordonnée.<br />"
   ]
  },
  {
   "cell_type": "code",
   "execution_count": 50,
   "metadata": {},
   "outputs": [],
   "source": [
    "capitals = {} # capitals = dict()\n",
    "capitals['Japon'] = 'Tokyo'\n",
    "capitals['Argentine'] = 'Buenos Aires'\n",
    "capitals[130130138103081] = 'Paris'"
   ]
  },
  {
   "cell_type": "code",
   "execution_count": 51,
   "metadata": {},
   "outputs": [
    {
     "data": {
      "text/plain": [
       "'Paris'"
      ]
     },
     "execution_count": 51,
     "metadata": {},
     "output_type": "execute_result"
    }
   ],
   "source": [
    "capitals[130130138103081]"
   ]
  },
  {
   "cell_type": "markdown",
   "metadata": {},
   "source": [
    "Pour accéder à un élément d'un dictionnaire, on se sert de <i>clefs.</i>"
   ]
  },
  {
   "cell_type": "code",
   "execution_count": 42,
   "metadata": {},
   "outputs": [
    {
     "data": {
      "text/plain": [
       "'Buenos Aires'"
      ]
     },
     "execution_count": 42,
     "metadata": {},
     "output_type": "execute_result"
    }
   ],
   "source": [
    "capitals['Argentine']"
   ]
  },
  {
   "cell_type": "code",
   "execution_count": 52,
   "metadata": {},
   "outputs": [
    {
     "name": "stdout",
     "output_type": "stream",
     "text": [
      "dict_keys(['Japon', 'Argentine', 130130138103081])\n",
      "dict_values(['Tokyo', 'Buenos Aires', 'Paris'])\n",
      "dict_items([('Japon', 'Tokyo'), ('Argentine', 'Buenos Aires'), (130130138103081, 'Paris')])\n"
     ]
    }
   ],
   "source": [
    "print(capitals.keys())\n",
    "print(capitals.values())\n",
    "print(capitals.items())"
   ]
  },
  {
   "cell_type": "code",
   "execution_count": 53,
   "metadata": {},
   "outputs": [
    {
     "name": "stdout",
     "output_type": "stream",
     "text": [
      "{}\n"
     ]
    }
   ],
   "source": [
    "capitals.clear()\n",
    "print(capitals)"
   ]
  },
  {
   "cell_type": "markdown",
   "metadata": {},
   "source": [
    "<font size=\"5\"><u>Les boucles</u></font><br /><br />"
   ]
  },
  {
   "cell_type": "code",
   "execution_count": 57,
   "metadata": {},
   "outputs": [
    {
     "name": "stdout",
     "output_type": "stream",
     "text": [
      "0\n",
      "1\n",
      "2\n",
      "3\n",
      "4\n",
      "5\n",
      "6\n",
      "7\n",
      "8\n",
      "9\n"
     ]
    }
   ],
   "source": [
    "for iIter in range(0, 10, 1):  # for iIter in range(10):\n",
    "    print(iIter)"
   ]
  },
  {
   "cell_type": "code",
   "execution_count": 58,
   "metadata": {},
   "outputs": [
    {
     "name": "stdout",
     "output_type": "stream",
     "text": [
      "0\n",
      "2\n",
      "4\n",
      "5\n",
      "6\n",
      "-3\n"
     ]
    }
   ],
   "source": [
    "values = [0, 2, 4, 5, 6, -3]\n",
    "for iValue in values:\n",
    "    print(iValue)"
   ]
  },
  {
   "cell_type": "code",
   "execution_count": 60,
   "metadata": {},
   "outputs": [
    {
     "name": "stdout",
     "output_type": "stream",
     "text": [
      "0 0\n",
      "1 2\n",
      "2 4\n",
      "3 5\n",
      "4 6\n",
      "5 -3\n"
     ]
    }
   ],
   "source": [
    "for iPos, iValue in enumerate(values):\n",
    "    print(iPos, iValue)"
   ]
  },
  {
   "cell_type": "code",
   "execution_count": 64,
   "metadata": {},
   "outputs": [
    {
     "name": "stdout",
     "output_type": "stream",
     "text": [
      "[0, 6, -9]\n",
      "[0, 6, -9]\n"
     ]
    }
   ],
   "source": [
    "values = [0, 2, 4, 5, 6, -3]\n",
    "\n",
    "new_values = list()\n",
    "for iValue in values:\n",
    "    if iValue * 2 < 5:\n",
    "        new_values.append(iValue * 3)\n",
    "\n",
    "print(new_values)\n",
    "\n",
    "# list comprehension\n",
    "new_values = [iValue * 3 for iValue in values if iValue * 2 < 5]\n",
    "print(new_values)"
   ]
  },
  {
   "cell_type": "markdown",
   "metadata": {},
   "source": [
    "<i>Boucles \"while\"</i>"
   ]
  },
  {
   "cell_type": "code",
   "execution_count": null,
   "metadata": {},
   "outputs": [],
   "source": [
    "cpt = 1\n",
    "limit = 3\n",
    "while cpt < 6:\n",
    "  print(cpt)\n",
    "  if cpt == limit:\n",
    "    break\n",
    "  cpt += 1"
   ]
  },
  {
   "cell_type": "markdown",
   "metadata": {},
   "source": [
    "<hr size=\"30\">\n",
    "<font size=\"5\"><u>If / Else</u></font><br /><br />\n",
    "\n",
    "Effectuer une opération <i>sous condition</i> est une étape indispensable lorsque l'on crée un programme.<br />\n",
    "En Python, la démarche est très simple :"
   ]
  },
  {
   "cell_type": "code",
   "execution_count": null,
   "metadata": {},
   "outputs": [],
   "source": [
    "value = 0\n",
    "if value > 0:\n",
    "    print(\"Value is positive\")\n",
    "elif value == 2:\n",
    "    print(\"Value is negative\")\n",
    "else:\n",
    "    print(\"Value is 0\")"
   ]
  },
  {
   "cell_type": "code",
   "execution_count": 72,
   "metadata": {},
   "outputs": [
    {
     "name": "stdout",
     "output_type": "stream",
     "text": [
      "Good choice\n"
     ]
    }
   ],
   "source": [
    "mot = \"analytics\"\n",
    "if mot == \"analytics\":\n",
    "    print(\"Good choice\")"
   ]
  },
  {
   "cell_type": "code",
   "execution_count": 73,
   "metadata": {},
   "outputs": [
    {
     "name": "stdout",
     "output_type": "stream",
     "text": [
      "Nerd.\n"
     ]
    }
   ],
   "source": [
    "prénom = \"Jack\"\n",
    "nom = \"Sparrow\"\n",
    "if prénom == \"Jack\" and nom == \"Sparrow\":\n",
    "    print(\"Nerd.\")"
   ]
  },
  {
   "cell_type": "code",
   "execution_count": null,
   "metadata": {},
   "outputs": [],
   "source": [
    "prénom = \"Jack\"\n",
    "nom = \"Sparrow\"\n",
    "if prénom.lower() == \"jean\" or prénom.lower() == \"jack\":\n",
    "    print(\"Very Nerd.\")"
   ]
  },
  {
   "cell_type": "code",
   "execution_count": 74,
   "metadata": {},
   "outputs": [
    {
     "data": {
      "text/plain": [
       "False"
      ]
     },
     "execution_count": 74,
     "metadata": {},
     "output_type": "execute_result"
    }
   ],
   "source": [
    "(3 < 5 and \"BGFi\" == \"analytics\")"
   ]
  },
  {
   "cell_type": "code",
   "execution_count": 75,
   "metadata": {},
   "outputs": [
    {
     "data": {
      "text/plain": [
       "True"
      ]
     },
     "execution_count": 75,
     "metadata": {},
     "output_type": "execute_result"
    }
   ],
   "source": [
    "not(3 < 5 and \"BGFi\" == \"analytics\")"
   ]
  },
  {
   "cell_type": "code",
   "execution_count": null,
   "metadata": {},
   "outputs": [],
   "source": [
    "(3 < 5 and \"BGFi\" != \"analytics\")"
   ]
  },
  {
   "cell_type": "code",
   "execution_count": 3,
   "metadata": {},
   "outputs": [
    {
     "name": "stdout",
     "output_type": "stream",
     "text": [
      "[6, 8]\n",
      "[6, 8]\n"
     ]
    }
   ],
   "source": [
    "countries = ['France', 'Belgique', 'Luxembourg', 'Finlande']\n",
    "# Au lieu de :\n",
    "values = []\n",
    "for iCountry in countries:\n",
    "    if iCountry[0].lower() == 'f':\n",
    "        values.append(len(iCountry))\n",
    "print(values)\n",
    "\n",
    "# On peut faire ça\n",
    "values = [len(iCountry) for iCountry in countries if iCountry[0].lower() == 'f']\n",
    "print(values)"
   ]
  },
  {
   "cell_type": "markdown",
   "metadata": {},
   "source": [
    "<hr size=\"30\">\n",
    "<font size=\"5\"><u>Les modules & bibliothèques/packages</u></font><br /><br />\n",
    "Les modules sont des briques fonctionnelles contenant du code exécutable. Il s'agit simplement de fichiers .py<br />\n",
    "Une <i>bibliothèque</i>, ou <i>package</i> est un ensemble de modules. Il s'agit basiquement d'un dossier contenant plusieurs fichiers .py. \n",
    "Beaucoup de fonctionnalités sont apportés par les <b>bibliothèques</b> (<i>libraries</i>).<br />\n",
    "Par exemple, pour obtenir une liste des fichiers présents dans un répertoire :"
   ]
  },
  {
   "cell_type": "code",
   "execution_count": 78,
   "metadata": {},
   "outputs": [
    {
     "name": "stdout",
     "output_type": "stream",
     "text": [
      "['HTM', 'Dalenys', '.DS_Store', 'Analyse_visuelle_des_documents', 'HTM_v2', 'industeel_skds', 'Python', 'AAAC', 'DeepLearning', 'hwg_api.py', 'Challenges', 'sompy', '__pycache__', 'Sandbox', 'kaggle_moa', 'dataset-quality', 'umatrix.py', 'head_turning_modulation_model_simdata', 'Auto1', 'Communipy', '_old', 'build', 'TF', 'TimeSynth']\n"
     ]
    }
   ],
   "source": [
    "import os  # os est un package\n",
    "dirs = os.listdir(\"/Users/bcl/dev/\")  # la fonction listdir est un module\n",
    "print(dirs)"
   ]
  },
  {
   "cell_type": "markdown",
   "metadata": {},
   "source": [
    "Dans le cadre d'une analyse de données que nous souhaitons <b>anonymiser</b>, il est courant d'assigner un ID de 32 caractères aléatoires en hexadécimal. <br />\n",
    "Nous pouvons alors le faire de plusieurs manières.<br />\n",
    "<i>Première méthode</i> :"
   ]
  },
  {
   "cell_type": "code",
   "execution_count": 82,
   "metadata": {},
   "outputs": [
    {
     "data": {
      "text/plain": [
       "'33e71df29f40fad3c5eda21ef5bbdd94'"
      ]
     },
     "execution_count": 82,
     "metadata": {},
     "output_type": "execute_result"
    }
   ],
   "source": [
    "import numpy\n",
    "\n",
    "def createUUID(nb=32):\n",
    "    letters = ['a', 'b', 'c', 'd', 'e', 'f']\n",
    "    unique_id = ''\n",
    "    for iPos in range(0, nb):  # 'for iPos in range(32)' marche aussi\n",
    "        # lettre ou chiffre ?\n",
    "        if numpy.random.rand() > 0.5:  # lettre\n",
    "            letter = numpy.random.randint(6)\n",
    "            unique_id += letters[letter]\n",
    "        else:  # chiffre\n",
    "            number = str(numpy.random.randint(10))\n",
    "            unique_id += number\n",
    "    return unique_id\n",
    "\n",
    "createUUID()"
   ]
  },
  {
   "cell_type": "markdown",
   "metadata": {},
   "source": [
    "<i>Deuxième méthode</i> :"
   ]
  },
  {
   "cell_type": "code",
   "execution_count": 85,
   "metadata": {},
   "outputs": [
    {
     "name": "stdout",
     "output_type": "stream",
     "text": [
      "d21bccff29c64ee49ae03cecd687de4d\n"
     ]
    }
   ],
   "source": [
    "import uuid\n",
    "unique_id = uuid.uuid4().hex\n",
    "print(unique_id)"
   ]
  },
  {
   "cell_type": "markdown",
   "metadata": {},
   "source": [
    "Globalement, quasiment toutes les fonctionnalités de base sont déjà implémentées et disponibles dans des bibliothèques dédiées.<br />\n",
    "Ainsi, dès lors que vous souhaitez implémenter une fonction qui ne vous semble pas extrêmement spécifique à votre projet, allez tout de suite chercher s'il n'existe pas déjà une bibliothèque déjà existante.<br />\n",
    "<strong>Cela vous fera gagner un temps considérable</strong>"
   ]
  },
  {
   "cell_type": "markdown",
   "metadata": {},
   "source": [
    "<hr size=\"30\">\n",
    "<font size=\"5\"><u>Les fonctions</u></font><br /><br />\n",
    "Comme dans la plupart des langages modernes, il est possible de faire des fonctions permettant de réaliser des suites d'opérations. Python est donc un langage qualifié de <b>fonctionnel</b>.<br />\n",
    "Attention cependant, les bonnes pratiques encouragent de construire son projet avec beaucoup de petites fonctions, plutôt que peu d'énormes fonctions.<br />\n",
    "Il est même vivement recommandé de créer <i>une fonction par opération \"élémentaire\"</i>."
   ]
  },
  {
   "cell_type": "code",
   "execution_count": 1,
   "metadata": {},
   "outputs": [
    {
     "data": {
      "image/png": "[encoded data removed]",
      "text/plain": [
       "<Figure size 432x288 with 1 Axes>"
      ]
     },
     "metadata": {
      "needs_background": "light"
     },
     "output_type": "display_data"
    }
   ],
   "source": [
    "import numpy as np\n",
    "import matplotlib.pyplot as plt\n",
    "\n",
    "def plotRandomData(length_of_data=100):\n",
    "    x = range(length_of_data)\n",
    "    y = np.random.rand(length_of_data)\n",
    "    plt.plot(x, y)\n",
    "    plt.show()\n",
    "\n",
    "plotRandomData()"
   ]
  },
  {
   "cell_type": "code",
   "execution_count": null,
   "metadata": {},
   "outputs": [],
   "source": [
    "plotRandomData(10)"
   ]
  },
  {
   "cell_type": "markdown",
   "metadata": {},
   "source": [
    "<i>Fonctions Lambda</i><br />\n",
    "Les fonctions lambda sont des petites fonctions dites <i>anonymes</i>.<br />\n"
   ]
  },
  {
   "cell_type": "code",
   "execution_count": null,
   "metadata": {},
   "outputs": [],
   "source": [
    "f = lambda a, b : a * b\n",
    "print(f(5, 6)) "
   ]
  },
  {
   "cell_type": "code",
   "execution_count": 2,
   "metadata": {},
   "outputs": [
    {
     "name": "stdout",
     "output_type": "stream",
     "text": [
      "22\n",
      "33\n"
     ]
    }
   ],
   "source": [
    "def myfunc(n):\n",
    "  return lambda a : a * n\n",
    "\n",
    "mydoubler = myfunc(2)\n",
    "mytripler = myfunc(3)\n",
    "\n",
    "print(mydoubler(11))\n",
    "print(mytripler(11))"
   ]
  },
  {
   "cell_type": "markdown",
   "metadata": {},
   "source": [
    "<hr size=\"30\">\n",
    "<font size=\"5\"><u>Les classes</u></font><br /><br />\n",
    "\n",
    "Les classes sont sans doute l'aspect le plus intéressant de la programmation en Python.<br />\n",
    "D'ailleurs, <i>tout est classe, en Python</i><br />\n",
    "Voilà un exemple de classe regroupant une partie des possibilités de la POO en Python."
   ]
  },
  {
   "cell_type": "code",
   "execution_count": null,
   "metadata": {},
   "outputs": [],
   "source": [
    "class Company:\n",
    "    '''\n",
    "        Description : cette classe implémente une entreprise\n",
    "    '''\n",
    "    \n",
    "    def __init__(self, name, number_of_employees):\n",
    "        self.name = name\n",
    "        self.number_of_employees = number_of_employees\n",
    "        self.clients = {}\n",
    "        \n",
    "    def add_client(self, clients, benefits):\n",
    "        for iCpt, iClient in enumerate(clients):\n",
    "            self.clients[iClient] = benefits[iCpt]\n",
    "\n",
    "    def __add__(self, company):\n",
    "        c = Company(self.name, self.number_of_employees)\n",
    "        c.number_of_employees += company.number_of_employees\n",
    "        return c.number_of_employees\n",
    "    \n",
    "    def __repr__(self):\n",
    "        return self.name"
   ]
  },
  {
   "cell_type": "code",
   "execution_count": null,
   "metadata": {},
   "outputs": [],
   "source": [
    "c1 = Company('BGFi', 100)\n",
    "c2 = Company('Adneom', 50)"
   ]
  },
  {
   "cell_type": "code",
   "execution_count": null,
   "metadata": {},
   "outputs": [],
   "source": [
    "c2+c1"
   ]
  },
  {
   "cell_type": "code",
   "execution_count": null,
   "metadata": {},
   "outputs": [],
   "source": [
    "c1.add_client(['SNCF'], [1000])"
   ]
  },
  {
   "cell_type": "code",
   "execution_count": null,
   "metadata": {},
   "outputs": [],
   "source": [
    "client_list = ['SNCF', 'EDF', 'GDF', 'BNP', 'HSBC']\n",
    "benefits_list = [1000, 500, 800, 900, 1200]\n",
    "c2.add_client(client_list, benefits_list)"
   ]
  },
  {
   "cell_type": "code",
   "execution_count": null,
   "metadata": {},
   "outputs": [],
   "source": [
    "c2.clients"
   ]
  },
  {
   "cell_type": "markdown",
   "metadata": {},
   "source": [
    "<hr size=\"30\">\n",
    "<font size=\"5\"><u>Lecture — Ecriture</u></font><br /><br />\n",
    "Les processus de lecture et d'écriture de fichiers sont essentiels lors d'un projet de Data Science.<br />\n",
    "En effet, les données sont très souvent stockées soit sous forme de fichiers, soit sur des serveurs.<br />\n",
    "Nous ne verrons ici, pour le moment, que la lecture et l'écriture de fichiers en local."
   ]
  },
  {
   "cell_type": "code",
   "execution_count": null,
   "metadata": {},
   "outputs": [],
   "source": [
    "path_name = \"/Users/bcl/SciWork/BGFi/CareerBooster/Session1/Data\"\n",
    "file_name = \"exemple.txt\"\n",
    "\n",
    "# Ecriture du fichier \n",
    "f = open(path_name + '/' + file_name, 'w')\n",
    "f.write(\"On a ajouté du texte ici !\\n\")\n",
    "f.close()\n",
    "\n",
    "# Lecture du fichier\n",
    "f = open(path_name + '/' + file_name, 'r')\n",
    "print(f.read())"
   ]
  },
  {
   "cell_type": "code",
   "execution_count": null,
   "metadata": {},
   "outputs": [],
   "source": [
    "# Ecriture dans le fichier avec l'option 'a' = 'append'\n",
    "f = open(path_name + '/' + file_name, 'a')\n",
    "for iCpt in range(5):\n",
    "    f.write(\"On a ajouté la ligne \" + str(iCpt+2) + \" ici\\n\")\n",
    "f.close()\n",
    "\n",
    "# Lecture du fichier\n",
    "f = open(path_name + '/' + file_name, 'r')\n",
    "print(f.read())"
   ]
  },
  {
   "cell_type": "markdown",
   "metadata": {},
   "source": [
    "<i>Import de CSV</i>"
   ]
  },
  {
   "cell_type": "code",
   "execution_count": null,
   "metadata": {},
   "outputs": [],
   "source": [
    "import csv\n",
    "\n",
    "path_name = \"/Users/bcl/SciWork/BGFi/CareerBooster/Session1/Data\"\n",
    "file_name = \"exemple.csv\"\n",
    "with open(path_name + '/' + file_name, newline='', encoding='utf-8-sig') as csvfile:\n",
    "    contacts_reader = csv.reader(csvfile, delimiter=';', quotechar='\"')\n",
    "    for line in contacts_reader:\n",
    "        print(line)"
   ]
  },
  {
   "cell_type": "code",
   "execution_count": null,
   "metadata": {},
   "outputs": [],
   "source": []
  },
  {
   "cell_type": "markdown",
   "metadata": {},
   "source": [
    "<hr size=\"30\">\n",
    "<font size=\"5\"><u>NumPy</u></font><br /><br />\n",
    "\n",
    "Wikipedia : <i>NumPy est une extension du langage de programmation Python, destinée à manipuler des matrices ou tableaux multidimensionnels ainsi que des fonctions mathématiques opérant sur ces tableaux.\n",
    "\n",
    "Plus précisément, cette bibliothèque logicielle libre et open source fournit de multiples fonctions permettant notamment de créer directement un tableau depuis un fichier ou au contraire de sauvegarder un tableau dans un fichier, et manipuler des vecteurs, matrices et polynômes.\n",
    "\n",
    "NumPy est la base de SciPy, regroupement de bibliothèques Python autour du calcul scientifique. </i>"
   ]
  },
  {
   "cell_type": "code",
   "execution_count": null,
   "metadata": {},
   "outputs": [],
   "source": [
    "import numpy as np\n",
    "\n",
    "np.random.seed(0)  # graine constante pour assurer la reproductibilité des résultats\n",
    "\n",
    "x1 = np.random.randint(10, size=6)  # 1D array\n",
    "x2 = np.random.randint(10, size=(3, 4))  # 2D array\n",
    "x3 = np.random.randint(10, size=(3, 4, 5))  # 3D array"
   ]
  },
  {
   "cell_type": "code",
   "execution_count": null,
   "metadata": {},
   "outputs": [],
   "source": [
    "print(x1)"
   ]
  },
  {
   "cell_type": "code",
   "execution_count": null,
   "metadata": {},
   "outputs": [],
   "source": [
    "print(x2)"
   ]
  },
  {
   "cell_type": "code",
   "execution_count": null,
   "metadata": {},
   "outputs": [],
   "source": [
    "print(x3)"
   ]
  },
  {
   "cell_type": "code",
   "execution_count": null,
   "metadata": {},
   "outputs": [],
   "source": [
    "print(\"Nombre de dimensions de x3 :\", x3.ndim)\n",
    "print(\"Taille de chaque dimension :\", x3.shape)\n",
    "print(\"Nombre d'éléments au total :\", x3.size)"
   ]
  },
  {
   "cell_type": "code",
   "execution_count": null,
   "metadata": {},
   "outputs": [],
   "source": [
    "x2[0, 3]"
   ]
  },
  {
   "cell_type": "code",
   "execution_count": null,
   "metadata": {},
   "outputs": [],
   "source": [
    "x2[0][:3]"
   ]
  },
  {
   "cell_type": "code",
   "execution_count": null,
   "metadata": {},
   "outputs": [],
   "source": [
    "print(x1[1::2])\n",
    "x4 = np.array([1,2,3,4,5,6,7,8,9,10])\n",
    "x4[1::2]"
   ]
  },
  {
   "cell_type": "code",
   "execution_count": null,
   "metadata": {},
   "outputs": [],
   "source": [
    "x2_sub = x2[:2, :3]\n",
    "print(x2)\n",
    "print(x2_sub)"
   ]
  },
  {
   "cell_type": "code",
   "execution_count": null,
   "metadata": {},
   "outputs": [],
   "source": [
    "x2_sub[0, 0] = -10\n",
    "print(x2)"
   ]
  },
  {
   "cell_type": "code",
   "execution_count": null,
   "metadata": {},
   "outputs": [],
   "source": [
    "x2_copy = x2[:2, :3].copy()\n",
    "x2_copy[0, 0] = -20\n",
    "print(x2)"
   ]
  },
  {
   "cell_type": "code",
   "execution_count": null,
   "metadata": {},
   "outputs": [],
   "source": []
  }
 ],
 "metadata": {
  "celltoolbar": "Format de la Cellule Texte Brut",
  "kernelspec": {
   "display_name": "Python 3",
   "language": "python",
   "name": "python3"
  },
  "language_info": {
   "codemirror_mode": {
    "name": "ipython",
    "version": 3
   },
   "file_extension": ".py",
   "mimetype": "text/x-python",
   "name": "python",
   "nbconvert_exporter": "python",
   "pygments_lexer": "ipython3",
   "version": "3.7.7"
  }
 },
 "nbformat": 4,
 "nbformat_minor": 2
}
