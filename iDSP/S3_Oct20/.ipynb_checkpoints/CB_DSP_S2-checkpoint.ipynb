{
 "cells": [
  {
   "cell_type": "markdown",
   "metadata": {},
   "source": [
    "<font size=\"6\"><strong>Career Booster Python & Data Science</font></strong><br /><br />\n",
    "<font size=\"6\">Session 2</font><br /><br />\n",
    "\n",
    "Cette session est dédiée à l'import d'un jeu de données ainsi qu'à la visualisation et l'analyse préliminaires de son contenu."
   ]
  },
  {
   "cell_type": "code",
   "execution_count": 1,
   "metadata": {},
   "outputs": [],
   "source": [
    "# --- Imports de bibliothèques\n",
    "import numpy as np\n",
    "import pandas as pd\n",
    "import matplotlib.pyplot as plt\n",
    "import seaborn as sns"
   ]
  },
  {
   "cell_type": "markdown",
   "metadata": {},
   "source": [
    "Nous allons importer un jeu de données couramment utilisé en Data Science : le dataset \"titanic-passengers\"."
   ]
  },
  {
   "cell_type": "code",
   "execution_count": 2,
   "metadata": {},
   "outputs": [],
   "source": [
    "path_to_file = \"../data/titanic-passengers.csv\""
   ]
  },
  {
   "cell_type": "code",
   "execution_count": 3,
   "metadata": {},
   "outputs": [
    {
     "data": {
      "text/html": [
       "<div>\n",
       "<style scoped>\n",
       "    .dataframe tbody tr th:only-of-type {\n",
       "        vertical-align: middle;\n",
       "    }\n",
       "\n",
       "    .dataframe tbody tr th {\n",
       "        vertical-align: top;\n",
       "    }\n",
       "\n",
       "    .dataframe thead th {\n",
       "        text-align: right;\n",
       "    }\n",
       "</style>\n",
       "<table border=\"1\" class=\"dataframe\">\n",
       "  <thead>\n",
       "    <tr style=\"text-align: right;\">\n",
       "      <th></th>\n",
       "      <th>PassengerId;Survived;Pclass;Name;Sex;Age;SibSp;Parch;Ticket;Fare;Cabin;Embarked</th>\n",
       "    </tr>\n",
       "  </thead>\n",
       "  <tbody>\n",
       "    <tr>\n",
       "      <th>343;No;2;Collander</th>\n",
       "      <td>Mr. Erik Gustaf;male;28.0;0;0;248740;13.0;;S</td>\n",
       "    </tr>\n",
       "    <tr>\n",
       "      <th>76;No;3;Moen</th>\n",
       "      <td>Mr. Sigurd Hansen;male;25.0;0;0;348123;7.65;F...</td>\n",
       "    </tr>\n",
       "    <tr>\n",
       "      <th>641;No;3;Jensen</th>\n",
       "      <td>Mr. Hans Peder;male;20.0;0;0;350050;7.8542000...</td>\n",
       "    </tr>\n",
       "    <tr>\n",
       "      <th>568;No;3;Palsson</th>\n",
       "      <td>Mrs. Nils (Alma Cornelia Berglund);female;29....</td>\n",
       "    </tr>\n",
       "    <tr>\n",
       "      <th>672;No;1;Davidson</th>\n",
       "      <td>Mr. Thornton;male;31.0;1;0;F.C. 12750;52.0;B71;S</td>\n",
       "    </tr>\n",
       "    <tr>\n",
       "      <th>...</th>\n",
       "      <td>...</td>\n",
       "    </tr>\n",
       "    <tr>\n",
       "      <th>779;No;3;Kilgannon</th>\n",
       "      <td>Mr. Thomas J;male;;0;0;36865;7.7375;;Q</td>\n",
       "    </tr>\n",
       "    <tr>\n",
       "      <th>435;No;1;Silvey</th>\n",
       "      <td>Mr. William Baird;male;50.0;1;0;13507;55.9;E44;S</td>\n",
       "    </tr>\n",
       "    <tr>\n",
       "      <th>342;Yes;1;Fortune</th>\n",
       "      <td>Miss. Alice Elizabeth;female;24.0;3;2;19950;2...</td>\n",
       "    </tr>\n",
       "    <tr>\n",
       "      <th>633;Yes;1;Stahelin-Maeglin</th>\n",
       "      <td>Dr. Max;male;32.0;0;0;13214;30.5;B50;C</td>\n",
       "    </tr>\n",
       "    <tr>\n",
       "      <th>111;No;1;Porter</th>\n",
       "      <td>Mr. Walter Chamberlain;male;47.0;0;0;110465;5...</td>\n",
       "    </tr>\n",
       "  </tbody>\n",
       "</table>\n",
       "<p>891 rows × 1 columns</p>\n",
       "</div>"
      ],
      "text/plain": [
       "                           PassengerId;Survived;Pclass;Name;Sex;Age;SibSp;Parch;Ticket;Fare;Cabin;Embarked\n",
       "343;No;2;Collander               Mr. Erik Gustaf;male;28.0;0;0;248740;13.0;;S                             \n",
       "76;No;3;Moen                 Mr. Sigurd Hansen;male;25.0;0;0;348123;7.65;F...                             \n",
       "641;No;3;Jensen              Mr. Hans Peder;male;20.0;0;0;350050;7.8542000...                             \n",
       "568;No;3;Palsson             Mrs. Nils (Alma Cornelia Berglund);female;29....                             \n",
       "672;No;1;Davidson            Mr. Thornton;male;31.0;1;0;F.C. 12750;52.0;B71;S                             \n",
       "...                                                                       ...                             \n",
       "779;No;3;Kilgannon                     Mr. Thomas J;male;;0;0;36865;7.7375;;Q                             \n",
       "435;No;1;Silvey              Mr. William Baird;male;50.0;1;0;13507;55.9;E44;S                             \n",
       "342;Yes;1;Fortune            Miss. Alice Elizabeth;female;24.0;3;2;19950;2...                             \n",
       "633;Yes;1;Stahelin-Maeglin             Dr. Max;male;32.0;0;0;13214;30.5;B50;C                             \n",
       "111;No;1;Porter              Mr. Walter Chamberlain;male;47.0;0;0;110465;5...                             \n",
       "\n",
       "[891 rows x 1 columns]"
      ]
     },
     "execution_count": 3,
     "metadata": {},
     "output_type": "execute_result"
    }
   ],
   "source": [
    "# --- Import des données via la bibliothèque pandas\n",
    "df = pd.read_csv(path_to_file)\n",
    "df"
   ]
  },
  {
   "cell_type": "code",
   "execution_count": 8,
   "metadata": {},
   "outputs": [],
   "source": [
    "# df pour DataFrame\n",
    "df = pd.read_csv(path_to_file, sep=\";\")"
   ]
  },
  {
   "cell_type": "code",
   "execution_count": 9,
   "metadata": {},
   "outputs": [
    {
     "data": {
      "text/html": [
       "<div>\n",
       "<style scoped>\n",
       "    .dataframe tbody tr th:only-of-type {\n",
       "        vertical-align: middle;\n",
       "    }\n",
       "\n",
       "    .dataframe tbody tr th {\n",
       "        vertical-align: top;\n",
       "    }\n",
       "\n",
       "    .dataframe thead th {\n",
       "        text-align: right;\n",
       "    }\n",
       "</style>\n",
       "<table border=\"1\" class=\"dataframe\">\n",
       "  <thead>\n",
       "    <tr style=\"text-align: right;\">\n",
       "      <th></th>\n",
       "      <th>PassengerId</th>\n",
       "      <th>Survived</th>\n",
       "      <th>Pclass</th>\n",
       "      <th>Name</th>\n",
       "      <th>Sex</th>\n",
       "      <th>Age</th>\n",
       "      <th>SibSp</th>\n",
       "      <th>Parch</th>\n",
       "      <th>Ticket</th>\n",
       "      <th>Fare</th>\n",
       "      <th>Cabin</th>\n",
       "      <th>Embarked</th>\n",
       "    </tr>\n",
       "  </thead>\n",
       "  <tbody>\n",
       "    <tr>\n",
       "      <th>0</th>\n",
       "      <td>343</td>\n",
       "      <td>No</td>\n",
       "      <td>2</td>\n",
       "      <td>Collander, Mr. Erik Gustaf</td>\n",
       "      <td>male</td>\n",
       "      <td>28.0</td>\n",
       "      <td>0</td>\n",
       "      <td>0</td>\n",
       "      <td>248740</td>\n",
       "      <td>13.0000</td>\n",
       "      <td>NaN</td>\n",
       "      <td>S</td>\n",
       "    </tr>\n",
       "    <tr>\n",
       "      <th>1</th>\n",
       "      <td>76</td>\n",
       "      <td>No</td>\n",
       "      <td>3</td>\n",
       "      <td>Moen, Mr. Sigurd Hansen</td>\n",
       "      <td>male</td>\n",
       "      <td>25.0</td>\n",
       "      <td>0</td>\n",
       "      <td>0</td>\n",
       "      <td>348123</td>\n",
       "      <td>7.6500</td>\n",
       "      <td>F G73</td>\n",
       "      <td>S</td>\n",
       "    </tr>\n",
       "    <tr>\n",
       "      <th>2</th>\n",
       "      <td>641</td>\n",
       "      <td>No</td>\n",
       "      <td>3</td>\n",
       "      <td>Jensen, Mr. Hans Peder</td>\n",
       "      <td>male</td>\n",
       "      <td>20.0</td>\n",
       "      <td>0</td>\n",
       "      <td>0</td>\n",
       "      <td>350050</td>\n",
       "      <td>7.8542</td>\n",
       "      <td>NaN</td>\n",
       "      <td>S</td>\n",
       "    </tr>\n",
       "    <tr>\n",
       "      <th>3</th>\n",
       "      <td>568</td>\n",
       "      <td>No</td>\n",
       "      <td>3</td>\n",
       "      <td>Palsson, Mrs. Nils (Alma Cornelia Berglund)</td>\n",
       "      <td>female</td>\n",
       "      <td>29.0</td>\n",
       "      <td>0</td>\n",
       "      <td>4</td>\n",
       "      <td>349909</td>\n",
       "      <td>21.0750</td>\n",
       "      <td>NaN</td>\n",
       "      <td>S</td>\n",
       "    </tr>\n",
       "    <tr>\n",
       "      <th>4</th>\n",
       "      <td>672</td>\n",
       "      <td>No</td>\n",
       "      <td>1</td>\n",
       "      <td>Davidson, Mr. Thornton</td>\n",
       "      <td>male</td>\n",
       "      <td>31.0</td>\n",
       "      <td>1</td>\n",
       "      <td>0</td>\n",
       "      <td>F.C. 12750</td>\n",
       "      <td>52.0000</td>\n",
       "      <td>B71</td>\n",
       "      <td>S</td>\n",
       "    </tr>\n",
       "    <tr>\n",
       "      <th>...</th>\n",
       "      <td>...</td>\n",
       "      <td>...</td>\n",
       "      <td>...</td>\n",
       "      <td>...</td>\n",
       "      <td>...</td>\n",
       "      <td>...</td>\n",
       "      <td>...</td>\n",
       "      <td>...</td>\n",
       "      <td>...</td>\n",
       "      <td>...</td>\n",
       "      <td>...</td>\n",
       "      <td>...</td>\n",
       "    </tr>\n",
       "    <tr>\n",
       "      <th>886</th>\n",
       "      <td>779</td>\n",
       "      <td>No</td>\n",
       "      <td>3</td>\n",
       "      <td>Kilgannon, Mr. Thomas J</td>\n",
       "      <td>male</td>\n",
       "      <td>NaN</td>\n",
       "      <td>0</td>\n",
       "      <td>0</td>\n",
       "      <td>36865</td>\n",
       "      <td>7.7375</td>\n",
       "      <td>NaN</td>\n",
       "      <td>Q</td>\n",
       "    </tr>\n",
       "    <tr>\n",
       "      <th>887</th>\n",
       "      <td>435</td>\n",
       "      <td>No</td>\n",
       "      <td>1</td>\n",
       "      <td>Silvey, Mr. William Baird</td>\n",
       "      <td>male</td>\n",
       "      <td>50.0</td>\n",
       "      <td>1</td>\n",
       "      <td>0</td>\n",
       "      <td>13507</td>\n",
       "      <td>55.9000</td>\n",
       "      <td>E44</td>\n",
       "      <td>S</td>\n",
       "    </tr>\n",
       "    <tr>\n",
       "      <th>888</th>\n",
       "      <td>342</td>\n",
       "      <td>Yes</td>\n",
       "      <td>1</td>\n",
       "      <td>Fortune, Miss. Alice Elizabeth</td>\n",
       "      <td>female</td>\n",
       "      <td>24.0</td>\n",
       "      <td>3</td>\n",
       "      <td>2</td>\n",
       "      <td>19950</td>\n",
       "      <td>263.0000</td>\n",
       "      <td>C23 C25 C27</td>\n",
       "      <td>S</td>\n",
       "    </tr>\n",
       "    <tr>\n",
       "      <th>889</th>\n",
       "      <td>633</td>\n",
       "      <td>Yes</td>\n",
       "      <td>1</td>\n",
       "      <td>Stahelin-Maeglin, Dr. Max</td>\n",
       "      <td>male</td>\n",
       "      <td>32.0</td>\n",
       "      <td>0</td>\n",
       "      <td>0</td>\n",
       "      <td>13214</td>\n",
       "      <td>30.5000</td>\n",
       "      <td>B50</td>\n",
       "      <td>C</td>\n",
       "    </tr>\n",
       "    <tr>\n",
       "      <th>890</th>\n",
       "      <td>111</td>\n",
       "      <td>No</td>\n",
       "      <td>1</td>\n",
       "      <td>Porter, Mr. Walter Chamberlain</td>\n",
       "      <td>male</td>\n",
       "      <td>47.0</td>\n",
       "      <td>0</td>\n",
       "      <td>0</td>\n",
       "      <td>110465</td>\n",
       "      <td>52.0000</td>\n",
       "      <td>C110</td>\n",
       "      <td>S</td>\n",
       "    </tr>\n",
       "  </tbody>\n",
       "</table>\n",
       "<p>891 rows × 12 columns</p>\n",
       "</div>"
      ],
      "text/plain": [
       "     PassengerId Survived  Pclass  \\\n",
       "0            343       No       2   \n",
       "1             76       No       3   \n",
       "2            641       No       3   \n",
       "3            568       No       3   \n",
       "4            672       No       1   \n",
       "..           ...      ...     ...   \n",
       "886          779       No       3   \n",
       "887          435       No       1   \n",
       "888          342      Yes       1   \n",
       "889          633      Yes       1   \n",
       "890          111       No       1   \n",
       "\n",
       "                                            Name     Sex   Age  SibSp  Parch  \\\n",
       "0                     Collander, Mr. Erik Gustaf    male  28.0      0      0   \n",
       "1                        Moen, Mr. Sigurd Hansen    male  25.0      0      0   \n",
       "2                         Jensen, Mr. Hans Peder    male  20.0      0      0   \n",
       "3    Palsson, Mrs. Nils (Alma Cornelia Berglund)  female  29.0      0      4   \n",
       "4                         Davidson, Mr. Thornton    male  31.0      1      0   \n",
       "..                                           ...     ...   ...    ...    ...   \n",
       "886                      Kilgannon, Mr. Thomas J    male   NaN      0      0   \n",
       "887                    Silvey, Mr. William Baird    male  50.0      1      0   \n",
       "888               Fortune, Miss. Alice Elizabeth  female  24.0      3      2   \n",
       "889                    Stahelin-Maeglin, Dr. Max    male  32.0      0      0   \n",
       "890               Porter, Mr. Walter Chamberlain    male  47.0      0      0   \n",
       "\n",
       "         Ticket      Fare        Cabin Embarked  \n",
       "0        248740   13.0000          NaN        S  \n",
       "1        348123    7.6500        F G73        S  \n",
       "2        350050    7.8542          NaN        S  \n",
       "3        349909   21.0750          NaN        S  \n",
       "4    F.C. 12750   52.0000          B71        S  \n",
       "..          ...       ...          ...      ...  \n",
       "886       36865    7.7375          NaN        Q  \n",
       "887       13507   55.9000          E44        S  \n",
       "888       19950  263.0000  C23 C25 C27        S  \n",
       "889       13214   30.5000          B50        C  \n",
       "890      110465   52.0000         C110        S  \n",
       "\n",
       "[891 rows x 12 columns]"
      ]
     },
     "execution_count": 9,
     "metadata": {},
     "output_type": "execute_result"
    }
   ],
   "source": [
    "df"
   ]
  },
  {
   "cell_type": "code",
   "execution_count": 19,
   "metadata": {},
   "outputs": [
    {
     "data": {
      "text/html": [
       "<div>\n",
       "<style scoped>\n",
       "    .dataframe tbody tr th:only-of-type {\n",
       "        vertical-align: middle;\n",
       "    }\n",
       "\n",
       "    .dataframe tbody tr th {\n",
       "        vertical-align: top;\n",
       "    }\n",
       "\n",
       "    .dataframe thead th {\n",
       "        text-align: right;\n",
       "    }\n",
       "</style>\n",
       "<table border=\"1\" class=\"dataframe\">\n",
       "  <thead>\n",
       "    <tr style=\"text-align: right;\">\n",
       "      <th></th>\n",
       "      <th>PassengerId</th>\n",
       "      <th>Survived</th>\n",
       "      <th>Pclass</th>\n",
       "      <th>Name</th>\n",
       "      <th>Sex</th>\n",
       "      <th>Age</th>\n",
       "      <th>SibSp</th>\n",
       "      <th>Parch</th>\n",
       "      <th>Ticket</th>\n",
       "      <th>Fare</th>\n",
       "      <th>Cabin</th>\n",
       "      <th>Embarked</th>\n",
       "    </tr>\n",
       "  </thead>\n",
       "  <tbody>\n",
       "    <tr>\n",
       "      <th>0</th>\n",
       "      <td>343</td>\n",
       "      <td>No</td>\n",
       "      <td>2</td>\n",
       "      <td>Collander, Mr. Erik Gustaf</td>\n",
       "      <td>male</td>\n",
       "      <td>28.0</td>\n",
       "      <td>0</td>\n",
       "      <td>0</td>\n",
       "      <td>248740</td>\n",
       "      <td>13.0000</td>\n",
       "      <td>NaN</td>\n",
       "      <td>S</td>\n",
       "    </tr>\n",
       "    <tr>\n",
       "      <th>1</th>\n",
       "      <td>76</td>\n",
       "      <td>No</td>\n",
       "      <td>3</td>\n",
       "      <td>Moen, Mr. Sigurd Hansen</td>\n",
       "      <td>male</td>\n",
       "      <td>25.0</td>\n",
       "      <td>0</td>\n",
       "      <td>0</td>\n",
       "      <td>348123</td>\n",
       "      <td>7.6500</td>\n",
       "      <td>F G73</td>\n",
       "      <td>S</td>\n",
       "    </tr>\n",
       "    <tr>\n",
       "      <th>2</th>\n",
       "      <td>641</td>\n",
       "      <td>No</td>\n",
       "      <td>3</td>\n",
       "      <td>Jensen, Mr. Hans Peder</td>\n",
       "      <td>male</td>\n",
       "      <td>20.0</td>\n",
       "      <td>0</td>\n",
       "      <td>0</td>\n",
       "      <td>350050</td>\n",
       "      <td>7.8542</td>\n",
       "      <td>NaN</td>\n",
       "      <td>S</td>\n",
       "    </tr>\n",
       "    <tr>\n",
       "      <th>3</th>\n",
       "      <td>568</td>\n",
       "      <td>No</td>\n",
       "      <td>3</td>\n",
       "      <td>Palsson, Mrs. Nils (Alma Cornelia Berglund)</td>\n",
       "      <td>female</td>\n",
       "      <td>29.0</td>\n",
       "      <td>0</td>\n",
       "      <td>4</td>\n",
       "      <td>349909</td>\n",
       "      <td>21.0750</td>\n",
       "      <td>NaN</td>\n",
       "      <td>S</td>\n",
       "    </tr>\n",
       "    <tr>\n",
       "      <th>4</th>\n",
       "      <td>672</td>\n",
       "      <td>No</td>\n",
       "      <td>1</td>\n",
       "      <td>Davidson, Mr. Thornton</td>\n",
       "      <td>male</td>\n",
       "      <td>31.0</td>\n",
       "      <td>1</td>\n",
       "      <td>0</td>\n",
       "      <td>F.C. 12750</td>\n",
       "      <td>52.0000</td>\n",
       "      <td>B71</td>\n",
       "      <td>S</td>\n",
       "    </tr>\n",
       "  </tbody>\n",
       "</table>\n",
       "</div>"
      ],
      "text/plain": [
       "   PassengerId Survived  Pclass                                         Name  \\\n",
       "0          343       No       2                   Collander, Mr. Erik Gustaf   \n",
       "1           76       No       3                      Moen, Mr. Sigurd Hansen   \n",
       "2          641       No       3                       Jensen, Mr. Hans Peder   \n",
       "3          568       No       3  Palsson, Mrs. Nils (Alma Cornelia Berglund)   \n",
       "4          672       No       1                       Davidson, Mr. Thornton   \n",
       "\n",
       "      Sex   Age  SibSp  Parch      Ticket     Fare  Cabin Embarked  \n",
       "0    male  28.0      0      0      248740  13.0000    NaN        S  \n",
       "1    male  25.0      0      0      348123   7.6500  F G73        S  \n",
       "2    male  20.0      0      0      350050   7.8542    NaN        S  \n",
       "3  female  29.0      0      4      349909  21.0750    NaN        S  \n",
       "4    male  31.0      1      0  F.C. 12750  52.0000    B71        S  "
      ]
     },
     "execution_count": 19,
     "metadata": {},
     "output_type": "execute_result"
    }
   ],
   "source": [
    "# --- Pour voir les premières lignes du dataset (par défaut, les 5 premières)\n",
    "df.head()\n",
    "#df.head(10)\n",
    "\n",
    "# --- Pour voir les dernières lignes du dataset (par défaut, les 5 dernières)\n",
    "#df.tail()\n",
    "#df.tail(10)\n",
    "\n",
    "# --- Pour voir des lignes prises aléatoirement dans le dataset (par défaut, 1 seule ligne)\n",
    "#df.sample()\n",
    "#df.sample(10)"
   ]
  },
  {
   "cell_type": "code",
   "execution_count": null,
   "metadata": {},
   "outputs": [],
   "source": [
    "# --- Pour obtenir la liste des colonnes du dataset. Utile pour les datasets volumineux\n",
    "df.columns"
   ]
  },
  {
   "cell_type": "code",
   "execution_count": null,
   "metadata": {},
   "outputs": [],
   "source": [
    "plt.plot(df[\"Age\"])"
   ]
  },
  {
   "cell_type": "code",
   "execution_count": null,
   "metadata": {},
   "outputs": [],
   "source": [
    "plt.plot(df[\"Fare\"])"
   ]
  },
  {
   "cell_type": "code",
   "execution_count": null,
   "metadata": {},
   "outputs": [],
   "source": [
    "# --- Représenter l'âge en fonction du prix du ticket acheté\n",
    "plt.plot(df[\"Age\"], df[\"Fare\"])"
   ]
  },
  {
   "cell_type": "markdown",
   "metadata": {},
   "source": [
    "Ca ne fonctionne pas. Pour cela, il faut utiliser un \"scatter plot\"."
   ]
  },
  {
   "cell_type": "code",
   "execution_count": null,
   "metadata": {},
   "outputs": [],
   "source": [
    "plt.scatter(df[\"Age\"], df[\"Fare\"], s=10)\n",
    "plt.xlabel(\"Age\");\n",
    "plt.ylabel(\"Fare\");\n",
    "\n",
    "# --- En utilisant la bibliothèque seaborn\n",
    "# sns.scatterplot(df[\"Age\"], df[\"Fare\"])"
   ]
  },
  {
   "cell_type": "code",
   "execution_count": null,
   "metadata": {},
   "outputs": [],
   "source": [
    "sns.relplot(x=\"Age\", y=\"Fare\", hue=\"Sex\", style=\"Survived\", data=df);"
   ]
  },
  {
   "cell_type": "markdown",
   "metadata": {},
   "source": [
    "Le scatter plot est très utile pour déterminer une corrélation entre des variables :"
   ]
  },
  {
   "cell_type": "code",
   "execution_count": null,
   "metadata": {},
   "outputs": [],
   "source": [
    "var1 = [1, 2, 3, 4, 5, 6, 7]\n",
    "var2 = [10, 20, 30, 40, 50, 60, 70]\n",
    "plt.scatter(var1, var2)"
   ]
  },
  {
   "cell_type": "markdown",
   "metadata": {},
   "source": [
    "Et ici un exemple plus proche de la réalité :"
   ]
  },
  {
   "cell_type": "code",
   "execution_count": null,
   "metadata": {},
   "outputs": [],
   "source": [
    "from scipy.linalg import cholesky\n",
    "from scipy.stats import norm\n",
    "\n",
    "with open('../data/correlated_variables.npy', 'rb') as file:\n",
    "    data = np.load(file)\n",
    "\n",
    "# Plot various projections of the samples.\n",
    "plt.subplot(2,2,1)\n",
    "plt.plot(data[0], data[1], 'b.')\n",
    "plt.ylabel('y[1]')\n",
    "plt.axis('equal')\n",
    "plt.grid(True)\n",
    "\n",
    "plt.subplot(2,2,3)\n",
    "plt.plot(data[0], data[2], 'b.')\n",
    "plt.xlabel('y[0]')\n",
    "plt.ylabel('y[2]')\n",
    "plt.axis('equal')\n",
    "plt.grid(True)\n",
    "\n",
    "plt.subplot(2,2,4)\n",
    "plt.plot(data[1], data[2], 'b.')\n",
    "plt.xlabel('y[1]')\n",
    "plt.axis('equal')\n",
    "plt.grid(True)"
   ]
  },
  {
   "cell_type": "markdown",
   "metadata": {},
   "source": [
    "### Boxplot\n",
    "\n",
    "Il est souvent utile de visualiser certaines données sous forme de \"boxplot\". Cette représentation permet d'étudier la façon dont les données sont distribuées.\n",
    "\n",
    "Un boxplot nous informe sur 5 valeurs clés :\n",
    "- le minimum\n",
    "- le maximum\n",
    "- le 1er quartile (Q1, i.e. 25% des données)\n",
    "- le 2è quartile, plus connu sous le nom de <i>médiane</i> (Q2, i.e. 50% des données)\n",
    "- le 3è quartile (Q3, i.e. 75% des données)\n",
    "\n",
    "Mais en plus de cela, le boxplot (et l'analyse qui conduit à cette représentation) nous informe sur de potentielles valeurs aberrantes (ou <i>outliers</i>), c'est-à-dire des valeurs qui a priori seraient des erreurs (beaucoup trop élevées ou trop basses).\n",
    "Evidemment, c'est le contexte qui permet aussi de juger si des valeurs extrêmes peuvent exister ou non."
   ]
  },
  {
   "cell_type": "code",
   "execution_count": null,
   "metadata": {},
   "outputs": [],
   "source": [
    "df.boxplot(column=[\"Age\"])"
   ]
  },
  {
   "cell_type": "markdown",
   "metadata": {},
   "source": [
    "Dans le cas de la variable <b>Age</b> étudiée ci-dessus, nous voyons que :\n",
    "- le minimum est de quasiment 0\n",
    "- le maximum est à environ 80\n",
    "- Q1 = 20\n",
    "- Q2 = ~28\n",
    "- Q3 = ~38\n",
    "\n",
    "Nous voyons aussi que les valeurs au-dessus de ~65 sont considérées comme des valeurs aberrantes. Dans le cas d'une variable d'âge, il est <i>a priori</i> évident qu'il ne s'agit pas de valeurs aberrantes."
   ]
  },
  {
   "cell_type": "code",
   "execution_count": null,
   "metadata": {},
   "outputs": [],
   "source": [
    "# --- Et pour avoir les valeurs exactes ayant permis de construire le boxplot :\n",
    "df[\"Age\"].describe()"
   ]
  },
  {
   "cell_type": "code",
   "execution_count": null,
   "metadata": {},
   "outputs": [],
   "source": [
    "df.boxplot(column=[\"Fare\"])"
   ]
  },
  {
   "cell_type": "markdown",
   "metadata": {},
   "source": [
    "### Valeurs manquantes"
   ]
  },
  {
   "cell_type": "code",
   "execution_count": null,
   "metadata": {},
   "outputs": [],
   "source": [
    "df[\"Age\"].head(10)\n"
   ]
  },
  {
   "cell_type": "code",
   "execution_count": null,
   "metadata": {},
   "outputs": [],
   "source": [
    "df[\"Age\"].isnull()"
   ]
  },
  {
   "cell_type": "code",
   "execution_count": null,
   "metadata": {},
   "outputs": [],
   "source": [
    "bool_series = pd.isnull(df[\"Age\"])  \n",
    "    \n",
    "# filtering data  \n",
    "# displaying data only with Gender = NaN  \n",
    "df[bool_series]"
   ]
  },
  {
   "cell_type": "code",
   "execution_count": null,
   "metadata": {},
   "outputs": [],
   "source": [
    "df.fillna(0)"
   ]
  },
  {
   "cell_type": "code",
   "execution_count": null,
   "metadata": {},
   "outputs": [],
   "source": [
    "df[\"Age\"].fillna(\"No Age\")"
   ]
  },
  {
   "cell_type": "markdown",
   "metadata": {},
   "source": [
    "Ci-dessous un exemple de jeu de données contenant des zones entières de valeurs manquantes.\n",
    "\n",
    "Pour des jeux de données pas trop volumineux, il est très utile d'utiliser une \"heatmap\" pour repérer facilement d'éventuels patterns et ainsi les traiter spécifiquement."
   ]
  },
  {
   "cell_type": "code",
   "execution_count": null,
   "metadata": {},
   "outputs": [],
   "source": [
    "df_missing = pd.read_csv('../data/missing_values.csv')\n",
    "df_missing.head()"
   ]
  },
  {
   "cell_type": "code",
   "execution_count": null,
   "metadata": {},
   "outputs": [],
   "source": [
    "plt.figure(figsize=(18, 9))\n",
    "sns.heatmap(df_missing.isnull(), cbar=False)\n",
    "plt.show()"
   ]
  },
  {
   "cell_type": "markdown",
   "metadata": {},
   "source": [
    "***\n",
    "De retour à notre jeu de données :"
   ]
  },
  {
   "cell_type": "code",
   "execution_count": null,
   "metadata": {},
   "outputs": [],
   "source": [
    "plt.figure(figsize=(18, 9))\n",
    "sns.heatmap(df.isnull(), cbar=False)\n",
    "plt.show()"
   ]
  },
  {
   "cell_type": "markdown",
   "metadata": {},
   "source": [
    "Il existe de nombreuses manières de remplacer des valeurs manquantes. Toutes dépendent du contexte.\n",
    "\n",
    "\n",
    "Il arrive souvent qu'on remplace les valeurs manquantes par :\n",
    "- la moyenne de la variable\n",
    "- la médiane de la variable\n",
    "\n",
    "Chacune de ces approches a un impact différent sur la variable : la première ne modifie pas la moyenne tandis que la seconde la modifie. En revanche, la seconde méthode est insensible aux valeurs extrêmes alors que la première l'est grandement."
   ]
  },
  {
   "cell_type": "code",
   "execution_count": null,
   "metadata": {},
   "outputs": [],
   "source": [
    "np.mean(df[\"Age\"])"
   ]
  },
  {
   "cell_type": "code",
   "execution_count": null,
   "metadata": {},
   "outputs": [],
   "source": [
    "df[\"Age_filled_mean\"] = df[\"Age\"].fillna(np.mean(df[\"Age\"]))"
   ]
  },
  {
   "cell_type": "code",
   "execution_count": null,
   "metadata": {},
   "outputs": [],
   "source": [
    "df[[\"Age\", \"Age_filled_mean\"]]"
   ]
  },
  {
   "cell_type": "code",
   "execution_count": null,
   "metadata": {},
   "outputs": [],
   "source": [
    "np.mean(df[\"Age_filled_mean\"])"
   ]
  },
  {
   "cell_type": "code",
   "execution_count": null,
   "metadata": {},
   "outputs": [],
   "source": [
    "df[\"Age_filled_median\"] = df[\"Age\"].fillna(np.nanmedian(df[\"Age\"]))"
   ]
  },
  {
   "cell_type": "code",
   "execution_count": null,
   "metadata": {
    "scrolled": true
   },
   "outputs": [],
   "source": [
    "np.mean(df[\"Age_filled_median\"])"
   ]
  },
  {
   "cell_type": "markdown",
   "metadata": {},
   "source": [
    "***\n",
    "Mais comment faire pour une variable non numérique, comme la colonne \"Embarked\" ?\n",
    "\n",
    "Une solution est d'assigner la valeur la plus présente afin de ne pas introduire une valeur peut-être extrême / aberrante au sein du jeu de données.\n",
    "\n",
    "Une autre solution est d'assigner une valeur aléatoire."
   ]
  },
  {
   "cell_type": "code",
   "execution_count": null,
   "metadata": {},
   "outputs": [],
   "source": [
    "values, counts = np.unique(df[\"Embarked\"], return_counts=True)\n",
    "plt.bar(values, counts);"
   ]
  },
  {
   "cell_type": "code",
   "execution_count": null,
   "metadata": {},
   "outputs": [],
   "source": [
    "df[\"Embarked\"].fillna(\"S\", inplace=True)"
   ]
  },
  {
   "cell_type": "markdown",
   "metadata": {},
   "source": [
    "***\n",
    "### Transformation de variables catégorielles en valeurs numériques"
   ]
  },
  {
   "cell_type": "code",
   "execution_count": null,
   "metadata": {},
   "outputs": [],
   "source": [
    "from sklearn.preprocessing import LabelEncoder\n",
    "\n",
    "lb_make = LabelEncoder()\n",
    "df[\"Sex_num\"] = lb_make.fit_transform(df[\"Sex\"])"
   ]
  },
  {
   "cell_type": "code",
   "execution_count": null,
   "metadata": {},
   "outputs": [],
   "source": [
    "df[[\"Sex_num\", \"Sex\"]].head(10)"
   ]
  },
  {
   "cell_type": "code",
   "execution_count": null,
   "metadata": {},
   "outputs": [],
   "source": [
    "lb_make = LabelEncoder()\n",
    "df[\"Survived_num\"] = lb_make.fit_transform(df[\"Survived\"])"
   ]
  },
  {
   "cell_type": "code",
   "execution_count": null,
   "metadata": {},
   "outputs": [],
   "source": [
    "df[[\"Survived_num\", \"Survived\"]].head(10)"
   ]
  },
  {
   "cell_type": "code",
   "execution_count": null,
   "metadata": {},
   "outputs": [],
   "source": [
    "lb_make = LabelEncoder()\n",
    "df[\"Embarked_num\"] = lb_make.fit_transform(df[\"Embarked\"])"
   ]
  },
  {
   "cell_type": "code",
   "execution_count": null,
   "metadata": {},
   "outputs": [],
   "source": [
    "df"
   ]
  },
  {
   "cell_type": "code",
   "execution_count": null,
   "metadata": {},
   "outputs": [],
   "source": [
    "plt.figure(figsize=(18, 9))\n",
    "sns.heatmap(df.isnull(), cbar=False)\n",
    "plt.show()"
   ]
  },
  {
   "cell_type": "code",
   "execution_count": null,
   "metadata": {},
   "outputs": [],
   "source": []
  }
 ],
 "metadata": {
  "kernelspec": {
   "display_name": "Python 3",
   "language": "python",
   "name": "python3"
  },
  "language_info": {
   "codemirror_mode": {
    "name": "ipython",
    "version": 3
   },
   "file_extension": ".py",
   "mimetype": "text/x-python",
   "name": "python",
   "nbconvert_exporter": "python",
   "pygments_lexer": "ipython3",
   "version": "3.7.7"
  }
 },
 "nbformat": 4,
 "nbformat_minor": 4
}
