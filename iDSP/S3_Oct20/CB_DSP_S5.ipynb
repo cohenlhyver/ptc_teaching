{
 "cells": [
  {
   "cell_type": "markdown",
   "metadata": {},
   "source": [
    "# Career Booster Python & Data Science\n",
    "\n",
    "## Session 5 : Introduction au Deep Learning #2\n",
    "\n",
    "*** \n",
    "\n",
    "\n",
    "Ce notebook est dédié à une implémentation d'un réseau de neurones profond basé sur des couches de convolution. Il s'agit de la correction de l'exercice énoncé à la fin de la session 4."
   ]
  },
  {
   "cell_type": "markdown",
   "metadata": {},
   "source": [
    "## Import des bibliothèques"
   ]
  },
  {
   "cell_type": "code",
   "execution_count": 1,
   "metadata": {},
   "outputs": [],
   "source": [
    "# --- Manipulation de données\n",
    "import numpy as np\n",
    "import pandas as pd\n",
    "\n",
    "# --- Display\n",
    "from IPython.display import Image\n",
    "import matplotlib.pyplot as plt\n",
    "import matplotlib.gridspec as gridspec\n",
    "import seaborn as sn\n",
    "\n",
    "# --- Machine Learning\n",
    "from sklearn.model_selection import train_test_split\n",
    "import tensorflow as tf\n",
    "from tensorflow import keras\n",
    "from tensorflow.keras import layers"
   ]
  },
  {
   "cell_type": "markdown",
   "metadata": {},
   "source": [
    "# A. Les données\n",
    "\n",
    "Les données sont issues du dataset *MNIST*, provenant du [NIST][1] (**N**ational **I**nstitute of **S**tandards and **T**echnology).\n",
    "Ce dataset consiste en 70 000 images de chiffres écrits à la main, images en noir & blanc et de taille 28x28 pixels (donc plutôt basse résolution). Ce jeu de données a été intensément utilisé par la communauté de Data Science pour mettre au point des modèles les plus performants possible, jusqu'à atteindre un taux d'erreur de 0.17% !\n",
    "\n",
    "L'objectif va être de créer un modèle apprenant à classer ces images automatiquement. Une fois le modèle appris, nous pourrons classer des images nouvelles, c'est-à-dire des images que le modèle n'aura jamais vu !\n",
    "\n",
    "[1]: https://en.wikipedia.org/wiki/MNIST_database"
   ]
  },
  {
   "cell_type": "markdown",
   "metadata": {},
   "source": [
    "### 1. Import des données\n",
    "\n",
    "Les données sont directement accessibles via Tensorflow / Keras. La première fois que vous lancez ce notebook, vous aurez à télécharger ces données (et ce téléchargement est fait automatiquement, vous n'avez rien à faire). Ensuite, ce ne sera plus la peine."
   ]
  },
  {
   "cell_type": "code",
   "execution_count": 42,
   "metadata": {},
   "outputs": [],
   "source": [
    "(images_train, labels_train), (images_test, labels_test) = keras.datasets.mnist.load_data()"
   ]
  },
  {
   "cell_type": "markdown",
   "metadata": {},
   "source": [
    "### 2. Etude préliminaire des données"
   ]
  },
  {
   "cell_type": "markdown",
   "metadata": {},
   "source": [
    "Keras nous permet directement d'accéder à une séparation de ce jeu de données en *deux sous jeux de données* : \n",
    "- un qui sera utilisé pour l'apprentissage : 60 000 images de 28 par 28 pixels\n",
    "- un qui sera utilisé our le test : 10 000 images de 28 par 28 pixels également\n",
    "\n",
    "Le premier sera donc utilisé pour **entraîner** le modèle tandis que le second sera utilisé pour **confronter** le modèle à des données qu'il n'a jamais vu. Nous pourrons donc réellement avoir une idée de la performance du modèle."
   ]
  },
  {
   "cell_type": "code",
   "execution_count": 3,
   "metadata": {},
   "outputs": [
    {
     "data": {
      "text/plain": [
       "(60000, 28, 28)"
      ]
     },
     "execution_count": 3,
     "metadata": {},
     "output_type": "execute_result"
    }
   ],
   "source": [
    "images_train.shape"
   ]
  },
  {
   "cell_type": "code",
   "execution_count": 4,
   "metadata": {},
   "outputs": [
    {
     "data": {
      "text/plain": [
       "(60000,)"
      ]
     },
     "execution_count": 4,
     "metadata": {},
     "output_type": "execute_result"
    }
   ],
   "source": [
    "labels_train.shape"
   ]
  },
  {
   "cell_type": "markdown",
   "metadata": {},
   "source": [
    "Les données *target* (le *y_train* ici) correspondent aux classes qu'il va falloir apprendre puis prédire."
   ]
  },
  {
   "cell_type": "code",
   "execution_count": 44,
   "metadata": {},
   "outputs": [
    {
     "data": {
      "text/plain": [
       "array([5, 0, 4, 1, 9, 2, 1, 3, 1, 4], dtype=uint8)"
      ]
     },
     "execution_count": 44,
     "metadata": {},
     "output_type": "execute_result"
    }
   ],
   "source": [
    "labels_train"
   ]
  },
  {
   "cell_type": "code",
   "execution_count": 6,
   "metadata": {},
   "outputs": [],
   "source": [
    "num_classes = 10\n",
    "class_names = [0, 1, 2, 3, 4, 5, 6, 7, 8, 9]\n",
    "input_shape = (28, 28, 1)"
   ]
  },
  {
   "cell_type": "code",
   "execution_count": 7,
   "metadata": {},
   "outputs": [
    {
     "name": "stdout",
     "output_type": "stream",
     "text": [
      "images_train shape: (60000, 28, 28, 1)\n"
     ]
    }
   ],
   "source": [
    "images_train = images_train.astype(\"float32\") / 255\n",
    "images_test = images_test.astype(\"float32\") / 255\n",
    "\n",
    "# Make sure images have shape (28, 28, 1)\n",
    "images_train = np.expand_dims(images_train, -1)\n",
    "images_test = np.expand_dims(images_test, -1)\n",
    "print(\"images_train shape:\", images_train.shape)"
   ]
  },
  {
   "cell_type": "code",
   "execution_count": 46,
   "metadata": {},
   "outputs": [],
   "source": [
    "labels_train = keras.utils.to_categorical(labels_train, num_classes)\n",
    "labels_test = keras.utils.to_categorical(labels_test, num_classes)"
   ]
  },
  {
   "cell_type": "markdown",
   "metadata": {},
   "source": [
    "### 3. Visualisation\n",
    "\n",
    "Il est indispensable de toujours essayer (lorsque c'est possible) de visualiser les données que nous allons avoir à traiter."
   ]
  },
  {
   "cell_type": "code",
   "execution_count": 45,
   "metadata": {},
   "outputs": [
    {
     "data": {
      "image/png": "[encoded data removed]",
      "text/plain": [
       "<Figure size 720x720 with 25 Axes>"
      ]
     },
     "metadata": {},
     "output_type": "display_data"
    }
   ],
   "source": [
    "nb_images = images_train.shape[0]\n",
    "\n",
    "random_indices = np.random.randint(0, nb_images, 25)\n",
    "\n",
    "plt.figure(figsize=(10,10))\n",
    "\n",
    "for iCpt, iIdx in enumerate(random_indices):\n",
    "    plt.subplot(5, 5, iCpt+1)\n",
    "    plt.xticks([])\n",
    "    plt.yticks([])\n",
    "    plt.grid(False)\n",
    "    plt.imshow(images_train[iIdx], cmap=plt.cm.binary)\n",
    "    plt.xlabel(labels_train[iIdx])\n",
    "\n",
    "plt.show()"
   ]
  },
  {
   "cell_type": "markdown",
   "metadata": {},
   "source": [
    "## B. L'apprentissage\n",
    "\n",
    "Nous allons ici utiliser un modèle **séquentiel** simple, c'est-à-dire un modèle composé :\n",
    "- d'une couche d'entrée : c'est par là que les données vont entrer dans le modèle. Il y aura **28x28 neurones** d'entrée puisque nos images ont une dimension de 28 par 28 pixels\n",
    "- d'une seule couche cachée contenant 128 neurones\n",
    "- d'une couche de sortie : c'est par là que les prédictions du modèle vont être récupérées. Il y aura **10 neurones** ici puisqu'il y a 10 classes de vêtements à prédire."
   ]
  },
  {
   "cell_type": "markdown",
   "metadata": {},
   "source": [
    "### 1. Création du modèle\n",
    "\n",
    "Nous créons le modèle via l'API de Keras, désormais complètement intégrée à Tensorflow (développé par Google).\n",
    "Pour ce faire, nous additionnons les couches les unes aux autres, chacune avec des propriétés particulières."
   ]
  },
  {
   "cell_type": "code",
   "execution_count": null,
   "metadata": {},
   "outputs": [],
   "source": [
    "model = tf.keras.Sequential(\n",
    "    [\n",
    "        keras.Input(shape=input_shape),\n",
    "        layers.Conv2D(32, kernel_size=(3, 3), activation=\"relu\"),\n",
    "        layers.MaxPooling2D(pool_size=(2, 2)),\n",
    "        layers.Conv2D(64, kernel_size=(3, 3), activation=\"relu\"),\n",
    "        layers.MaxPooling2D(pool_size=(2, 2)),\n",
    "        layers.Flatten(),\n",
    "        layers.Dropout(0.5),\n",
    "        layers.Dense(num_classes, activation=\"softmax\"),\n",
    "    ]\n",
    ")"
   ]
  },
  {
   "cell_type": "markdown",
   "metadata": {},
   "source": [
    "Jetons un coup d'oeil sur ce modèle :"
   ]
  },
  {
   "cell_type": "code",
   "execution_count": 12,
   "metadata": {},
   "outputs": [
    {
     "name": "stdout",
     "output_type": "stream",
     "text": [
      "Model: \"sequential\"\n",
      "_________________________________________________________________\n",
      "Layer (type)                 Output Shape              Param #   \n",
      "=================================================================\n",
      "conv2d (Conv2D)              (None, 26, 26, 32)        320       \n",
      "_________________________________________________________________\n",
      "max_pooling2d (MaxPooling2D) (None, 13, 13, 32)        0         \n",
      "_________________________________________________________________\n",
      "conv2d_1 (Conv2D)            (None, 11, 11, 64)        18496     \n",
      "_________________________________________________________________\n",
      "max_pooling2d_1 (MaxPooling2 (None, 5, 5, 64)          0         \n",
      "_________________________________________________________________\n",
      "flatten (Flatten)            (None, 1600)              0         \n",
      "_________________________________________________________________\n",
      "dropout (Dropout)            (None, 1600)              0         \n",
      "_________________________________________________________________\n",
      "dense (Dense)                (None, 10)                16010     \n",
      "=================================================================\n",
      "Total params: 34,826\n",
      "Trainable params: 34,826\n",
      "Non-trainable params: 0\n",
      "_________________________________________________________________\n"
     ]
    }
   ],
   "source": [
    "model.summary()"
   ]
  },
  {
   "cell_type": "markdown",
   "metadata": {},
   "source": [
    "Chaque couches (*layer*) possède un vecteur de poids ainsi qu'un vecteur de biais. C'est cette architecture qui permet l'apprentissage et ce sont ces valeurs (principalement) que le modèle va essayer de modifier lors de l'apprentissage afin que les prédictions que le modèle effectue soient de plus en plus proches de la référence qui lui ai donné.\n",
    "\n",
    "A noter que par défaut, les biais sont tous initialisés à 0 en début d'apprentissage."
   ]
  },
  {
   "cell_type": "code",
   "execution_count": 13,
   "metadata": {},
   "outputs": [
    {
     "data": {
      "text/plain": [
       "[<tf.Variable 'conv2d/kernel:0' shape=(3, 3, 1, 32) dtype=float32, numpy=\n",
       " array([[[[-0.00772604, -0.09506416,  0.01936913,  0.03033985,\n",
       "            0.13520922,  0.01138483, -0.05784102,  0.06864579,\n",
       "           -0.0152573 ,  0.08080409, -0.04281059, -0.09334553,\n",
       "            0.11552007, -0.00221728, -0.00326867, -0.07246798,\n",
       "           -0.07405587,  0.10554278, -0.07139223,  0.13237758,\n",
       "            0.01419345,  0.08020473, -0.13556439, -0.04317085,\n",
       "           -0.02921089, -0.01033686, -0.05238275,  0.10820536,\n",
       "            0.00053711,  0.13115649, -0.02217025, -0.13771765]],\n",
       " \n",
       "         [[ 0.10600649, -0.10106023,  0.10558619,  0.11934809,\n",
       "            0.10112102,  0.13627918,  0.13681234,  0.08471575,\n",
       "           -0.01088028,  0.1341692 ,  0.0423892 ,  0.1227987 ,\n",
       "            0.05440117,  0.13867216,  0.08378144, -0.04694349,\n",
       "            0.03783952, -0.11147103, -0.03870531, -0.02510096,\n",
       "            0.1062052 ,  0.02589419, -0.07596177, -0.09150467,\n",
       "           -0.14195113,  0.06864041, -0.00379358,  0.1268877 ,\n",
       "           -0.03226658, -0.13305727, -0.11235043,  0.04698066]],\n",
       " \n",
       "         [[-0.13582   , -0.11669127, -0.10877895, -0.11954096,\n",
       "            0.10355447, -0.05795481,  0.00371642, -0.07783133,\n",
       "            0.01751159,  0.14013787,  0.12796436,  0.01443902,\n",
       "            0.02821812, -0.10015065,  0.08785605,  0.09551151,\n",
       "            0.00521509, -0.08528912, -0.11004427, -0.12227631,\n",
       "            0.13465638,  0.07037178, -0.12373919,  0.02429312,\n",
       "           -0.06462408,  0.08743988, -0.11384829,  0.0747467 ,\n",
       "           -0.09836913,  0.12896125,  0.08535455, -0.14176597]]],\n",
       " \n",
       " \n",
       "        [[[ 0.14052652, -0.09306216, -0.11021391, -0.04538894,\n",
       "           -0.13808063,  0.10909681,  0.0011031 ,  0.11609183,\n",
       "            0.08870402,  0.00769548,  0.13872038,  0.12567098,\n",
       "            0.11069982,  0.03941268,  0.13007988,  0.0162058 ,\n",
       "            0.01233828,  0.10562454, -0.00185503, -0.13391139,\n",
       "           -0.01116738, -0.01220647, -0.13621461, -0.12481078,\n",
       "            0.0832368 , -0.0450702 , -0.0257229 , -0.10528246,\n",
       "           -0.07400511,  0.05822706,  0.01403001,  0.07089019]],\n",
       " \n",
       "         [[ 0.07437749,  0.01235092,  0.05653514,  0.13859059,\n",
       "            0.07182565,  0.08418968,  0.12466393, -0.0455986 ,\n",
       "            0.02864903,  0.0095568 , -0.01043282,  0.14099486,\n",
       "            0.12189163,  0.04890408, -0.11593832,  0.07924731,\n",
       "           -0.05654855, -0.06717752,  0.05491556,  0.11120261,\n",
       "           -0.02074376,  0.06079447,  0.05997901, -0.05382069,\n",
       "           -0.06639869,  0.00293705, -0.06391041, -0.0541741 ,\n",
       "           -0.12158585,  0.08199856,  0.07600901, -0.10022419]],\n",
       " \n",
       "         [[-0.11426815, -0.1113985 ,  0.002308  ,  0.04853301,\n",
       "            0.01760125, -0.03466055,  0.06429002,  0.01949057,\n",
       "           -0.08976781,  0.04809204, -0.12849209, -0.09871346,\n",
       "           -0.10761427,  0.11035119,  0.12886219,  0.06672682,\n",
       "            0.12844102,  0.07676405, -0.10805284,  0.09684044,\n",
       "           -0.06882123, -0.05701508, -0.11415911,  0.12716712,\n",
       "            0.01125629,  0.06048654,  0.12107687, -0.12014212,\n",
       "            0.12191291,  0.03052823, -0.11225829,  0.09384558]]],\n",
       " \n",
       " \n",
       "        [[[-0.11364818,  0.0762206 , -0.13592535, -0.07479797,\n",
       "            0.06062926, -0.05256845,  0.06785896,  0.1278653 ,\n",
       "           -0.00410827,  0.09072025,  0.09270646, -0.04841766,\n",
       "           -0.1071289 ,  0.1371242 , -0.09522302, -0.09246317,\n",
       "            0.09450801,  0.06374717,  0.015634  , -0.0523535 ,\n",
       "           -0.01272957, -0.09645622,  0.00291204, -0.10173909,\n",
       "            0.00194256, -0.05358998,  0.13937412, -0.08998615,\n",
       "           -0.04990714,  0.02433579,  0.06407019,  0.0935657 ]],\n",
       " \n",
       "         [[-0.13366164, -0.00084089,  0.08914605, -0.07315325,\n",
       "            0.04480937, -0.06700961, -0.12745921,  0.01105182,\n",
       "           -0.13029493, -0.05095284, -0.09515854, -0.13377619,\n",
       "            0.08877504, -0.08981786, -0.06166585,  0.07609917,\n",
       "            0.00211579,  0.09649363,  0.00761327, -0.04188096,\n",
       "            0.08596805,  0.0982538 ,  0.09800012, -0.00825515,\n",
       "           -0.01876349, -0.11048372,  0.00855784,  0.02443941,\n",
       "            0.00771642, -0.08992027,  0.09941432, -0.10282423]],\n",
       " \n",
       "         [[-0.0727488 , -0.0643991 , -0.00604825, -0.02385137,\n",
       "           -0.01562084, -0.12869789, -0.01366073, -0.08694072,\n",
       "            0.12000911, -0.03813393,  0.01910752, -0.03927296,\n",
       "           -0.058337  , -0.12876411,  0.00385651, -0.12587833,\n",
       "            0.00654046,  0.0505814 , -0.0671028 ,  0.13723584,\n",
       "           -0.0745464 , -0.03791174,  0.04810746, -0.04205213,\n",
       "            0.0133836 , -0.05927473, -0.07477523, -0.00235005,\n",
       "            0.09601836, -0.06137994,  0.11192898,  0.12502266]]]],\n",
       "       dtype=float32)>,\n",
       " <tf.Variable 'conv2d/bias:0' shape=(32,) dtype=float32, numpy=\n",
       " array([0., 0., 0., 0., 0., 0., 0., 0., 0., 0., 0., 0., 0., 0., 0., 0., 0.,\n",
       "        0., 0., 0., 0., 0., 0., 0., 0., 0., 0., 0., 0., 0., 0., 0.],\n",
       "       dtype=float32)>]"
      ]
     },
     "execution_count": 13,
     "metadata": {},
     "output_type": "execute_result"
    }
   ],
   "source": [
    "model.layers[0].weights"
   ]
  },
  {
   "cell_type": "markdown",
   "metadata": {},
   "source": [
    "Le modèle étant maintenant créé, il est nécessaire de le compiler."
   ]
  },
  {
   "cell_type": "code",
   "execution_count": 14,
   "metadata": {},
   "outputs": [],
   "source": [
    "model.compile(\n",
    "    loss=\"categorical_crossentropy\",\n",
    "    optimizer=\"adam\",\n",
    "    metrics=[\"accuracy\"]\n",
    ")"
   ]
  },
  {
   "cell_type": "markdown",
   "metadata": {},
   "source": [
    "### 2. Entraînement du modèle\n",
    "\n",
    "Nous pouvons maintenant entraîner le modèle avec comme arguments :\n",
    "- *X_train* : les données d'entraînement, c'est-à-dire 48 000 images\n",
    "- *y_train* : les 48 000 labels correspondant\n",
    "- *epochs* : un nombre d'itération, c'est-à-dire de fois où le modèle va effectuer une passe sur toutes les données d'apprentissage\n",
    "- *validation_data* : les données de validation, elles aussi composées d'images et de labels correspondants\n",
    "- *callbacks* : une liste des fonctions à appeler à chaque fin d'époques / d'itérations."
   ]
  },
  {
   "cell_type": "code",
   "execution_count": 15,
   "metadata": {},
   "outputs": [
    {
     "name": "stdout",
     "output_type": "stream",
     "text": [
      "Epoch 1/15\n",
      "422/422 [==============================] - 14s 32ms/step - loss: 0.3552 - accuracy: 0.8926 - val_loss: 0.0866 - val_accuracy: 0.9767\n",
      "Epoch 2/15\n",
      "422/422 [==============================] - 14s 32ms/step - loss: 0.1154 - accuracy: 0.9644 - val_loss: 0.0580 - val_accuracy: 0.9850\n",
      "Epoch 3/15\n",
      "422/422 [==============================] - 14s 34ms/step - loss: 0.0879 - accuracy: 0.9724 - val_loss: 0.0476 - val_accuracy: 0.9870\n",
      "Epoch 4/15\n",
      "422/422 [==============================] - 14s 32ms/step - loss: 0.0732 - accuracy: 0.9775 - val_loss: 0.0462 - val_accuracy: 0.9860\n",
      "Epoch 5/15\n",
      "422/422 [==============================] - 15s 36ms/step - loss: 0.0646 - accuracy: 0.9800 - val_loss: 0.0380 - val_accuracy: 0.9893\n",
      "Epoch 6/15\n",
      "422/422 [==============================] - 16s 39ms/step - loss: 0.0559 - accuracy: 0.9828 - val_loss: 0.0386 - val_accuracy: 0.9897\n",
      "Epoch 7/15\n",
      "422/422 [==============================] - 15s 37ms/step - loss: 0.0530 - accuracy: 0.9831 - val_loss: 0.0366 - val_accuracy: 0.9907\n",
      "Epoch 8/15\n",
      "422/422 [==============================] - 15s 37ms/step - loss: 0.0485 - accuracy: 0.9846 - val_loss: 0.0367 - val_accuracy: 0.9883\n",
      "Epoch 9/15\n",
      "422/422 [==============================] - 16s 37ms/step - loss: 0.0466 - accuracy: 0.9859 - val_loss: 0.0345 - val_accuracy: 0.9907\n",
      "Epoch 10/15\n",
      "422/422 [==============================] - 16s 38ms/step - loss: 0.0427 - accuracy: 0.9869 - val_loss: 0.0322 - val_accuracy: 0.9902\n",
      "Epoch 11/15\n",
      "422/422 [==============================] - 16s 37ms/step - loss: 0.0428 - accuracy: 0.9866 - val_loss: 0.0324 - val_accuracy: 0.9913\n",
      "Epoch 12/15\n",
      "422/422 [==============================] - 16s 38ms/step - loss: 0.0385 - accuracy: 0.9878 - val_loss: 0.0324 - val_accuracy: 0.9910\n",
      "Epoch 13/15\n",
      "422/422 [==============================] - 16s 38ms/step - loss: 0.0373 - accuracy: 0.9884 - val_loss: 0.0330 - val_accuracy: 0.9912\n",
      "Epoch 14/15\n",
      "422/422 [==============================] - 16s 38ms/step - loss: 0.0345 - accuracy: 0.9887 - val_loss: 0.0304 - val_accuracy: 0.9907\n",
      "Epoch 15/15\n",
      "422/422 [==============================] - 15s 37ms/step - loss: 0.0363 - accuracy: 0.9884 - val_loss: 0.0320 - val_accuracy: 0.9910\n"
     ]
    }
   ],
   "source": [
    "batch_size = 128\n",
    "nb_epochs = 15\n",
    "validation_split = 0.1\n",
    "\n",
    "history = model.fit(images_train,\n",
    "                    labels_train,\n",
    "                    batch_size=batch_size,\n",
    "                    epochs=nb_epochs,\n",
    "                    validation_split=validation_split)"
   ]
  },
  {
   "cell_type": "code",
   "execution_count": 16,
   "metadata": {},
   "outputs": [
    {
     "data": {
      "image/png": "[encoded data removed]",
      "text/plain": [
       "<Figure size 432x288 with 1 Axes>"
      ]
     },
     "metadata": {
      "needs_background": "light"
     },
     "output_type": "display_data"
    }
   ],
   "source": [
    "plt.plot(range(1, nb_epochs+1), history.history[\"loss\"])\n",
    "plt.plot(range(1, nb_epochs+1), history.history[\"val_loss\"])\n",
    "plt.show()"
   ]
  },
  {
   "cell_type": "code",
   "execution_count": 17,
   "metadata": {},
   "outputs": [
    {
     "data": {
      "image/png": "[encoded data removed]",
      "text/plain": [
       "<Figure size 432x288 with 1 Axes>"
      ]
     },
     "metadata": {
      "needs_background": "light"
     },
     "output_type": "display_data"
    }
   ],
   "source": [
    "plt.plot(range(1, nb_epochs+1), history.history[\"accuracy\"])\n",
    "plt.plot(range(1, nb_epochs+1), history.history[\"val_accuracy\"])\n",
    "plt.show()"
   ]
  },
  {
   "cell_type": "markdown",
   "metadata": {},
   "source": [
    "### 3. Visualisation des résultats\n",
    "\n",
    "L'apprentissage est maintenant terminé. Nous pouvons visualiser l'évolution des métriques que nous avons définies plus haut :"
   ]
  },
  {
   "cell_type": "code",
   "execution_count": 18,
   "metadata": {},
   "outputs": [
    {
     "data": {
      "image/png": "[encoded data removed]",
      "text/plain": [
       "<Figure size 576x360 with 1 Axes>"
      ]
     },
     "metadata": {
      "needs_background": "light"
     },
     "output_type": "display_data"
    }
   ],
   "source": [
    "pd.DataFrame(history.history).plot(figsize=(8, 5))\n",
    "plt.grid(True)\n",
    "plt.gca().set_ylim(0, 1)\n",
    "plt.show()"
   ]
  },
  {
   "cell_type": "markdown",
   "metadata": {},
   "source": [
    "### 4. Evaluation du modèle\n",
    "\n",
    "Le modèle est entraîné et nous considérons que les valeurs de *loss* sont suffisament hautes pour arrêter l'apprentissage. Nous pouvons donc désormais *utiliser* ce modèle pour faire de la prédiction.\n",
    "\n",
    "Nous allons alors commencer par effectuer des prédictions sur le jeu de données test, jeu de données, pour rappel, que le modèle n'a **jamais** vu mais pour lequel nous connaissons le label à prédire — c'est tout l'intérêt du jeu de test !"
   ]
  },
  {
   "cell_type": "code",
   "execution_count": 19,
   "metadata": {},
   "outputs": [
    {
     "name": "stdout",
     "output_type": "stream",
     "text": [
      "313/313 - 0s - loss: 0.0251 - accuracy: 0.9917\n"
     ]
    }
   ],
   "source": [
    "test_loss, test_acc = model.evaluate(images_test,  labels_test, verbose=2)"
   ]
  },
  {
   "cell_type": "markdown",
   "metadata": {},
   "source": [
    "Nous voyons ici que l'*accuracy* est d'environ 85%, une valeur inférieure à ce que nous avons observé sur le jeu de train d'une part et sur le jeu de validation d'autre part.\n",
    "C'est totalement normal ! Le jeu de données test correspond à des données totalement nouvelles pour le modèle, il est donc logique qu'il s'en sorte un peu moins bien que sur les données qu'il a eu l'occasion de traiter de nombreuses fois (cf. nombre d'époques)."
   ]
  },
  {
   "cell_type": "markdown",
   "metadata": {},
   "source": [
    "### 5. Prédictions\n",
    "\n",
    "On effectue une prédiction sur trois images du jeu de données de test (jamais vue auparavant par le modèle)"
   ]
  },
  {
   "cell_type": "code",
   "execution_count": 20,
   "metadata": {},
   "outputs": [
    {
     "data": {
      "text/plain": [
       "array([[2.0949539e-10, 2.2553043e-10, 2.2591967e-06, 1.2398220e-06,\n",
       "        2.3501391e-13, 1.0337556e-10, 2.7306893e-17, 9.9999654e-01,\n",
       "        2.6308267e-09, 2.6954622e-08],\n",
       "       [3.9401912e-06, 2.5093566e-05, 9.9995160e-01, 2.7951090e-08,\n",
       "        2.0644926e-09, 7.7955377e-12, 1.8899431e-05, 1.6552625e-10,\n",
       "        3.1399878e-07, 1.3050663e-11],\n",
       "       [5.9134209e-08, 9.9977797e-01, 1.3078105e-06, 3.9580911e-08,\n",
       "        1.3636728e-04, 4.3647370e-07, 2.4748633e-06, 7.4686977e-05,\n",
       "        6.1962605e-06, 4.2181486e-07]], dtype=float32)"
      ]
     },
     "execution_count": 20,
     "metadata": {},
     "output_type": "execute_result"
    }
   ],
   "source": [
    "X_new = images_test[:3]\n",
    "y_proba = model.predict(X_new)\n",
    "y_proba"
   ]
  },
  {
   "cell_type": "markdown",
   "metadata": {},
   "source": [
    "Si l'on souhaite avoir des classes prédites plutôt que des probas d'appartenance"
   ]
  },
  {
   "cell_type": "code",
   "execution_count": 21,
   "metadata": {},
   "outputs": [],
   "source": [
    "probability_model = tf.keras.Sequential([model, \n",
    "                                         tf.keras.layers.Softmax()])\n",
    "\n",
    "predictions = probability_model.predict(images_test)"
   ]
  },
  {
   "cell_type": "code",
   "execution_count": 22,
   "metadata": {},
   "outputs": [
    {
     "data": {
      "text/plain": [
       "array([0.08533679, 0.08533679, 0.08533698, 0.08533689, 0.08533679,\n",
       "       0.08533679, 0.08533679, 0.23196864, 0.08533679, 0.08533679],\n",
       "      dtype=float32)"
      ]
     },
     "execution_count": 22,
     "metadata": {},
     "output_type": "execute_result"
    }
   ],
   "source": [
    "predictions[0]"
   ]
  },
  {
   "cell_type": "code",
   "execution_count": 23,
   "metadata": {},
   "outputs": [
    {
     "data": {
      "text/plain": [
       "7"
      ]
     },
     "execution_count": 23,
     "metadata": {},
     "output_type": "execute_result"
    }
   ],
   "source": [
    "np.argmax(predictions[0])"
   ]
  },
  {
   "cell_type": "code",
   "execution_count": 24,
   "metadata": {},
   "outputs": [
    {
     "data": {
      "text/plain": [
       "array([0., 0., 0., 0., 0., 0., 0., 1., 0., 0.], dtype=float32)"
      ]
     },
     "execution_count": 24,
     "metadata": {},
     "output_type": "execute_result"
    }
   ],
   "source": [
    "labels_test[0]"
   ]
  },
  {
   "cell_type": "code",
   "execution_count": 25,
   "metadata": {},
   "outputs": [],
   "source": [
    "def plot_image_and_probas(\n",
    "    image,\n",
    "    predictions,\n",
    "    true_label,\n",
    "    labels\n",
    "):\n",
    "    \"\"\"Description\n",
    "    \n",
    "    Parameters\n",
    "    ----------\n",
    "    image : 2D matrix\n",
    "    \n",
    "    predictions : 2D matrix\n",
    "\n",
    "    true_label : \n",
    "    \n",
    "    labels : list of str\n",
    "        All possible labels\n",
    "    \n",
    "    Returns\n",
    "    -------\n",
    "    \"\"\"\n",
    "    fig = plt.figure(figsize=(8, 4),\n",
    "                     constrained_layout=True)\n",
    "    \n",
    "    spec = gridspec.GridSpec(ncols=2,\n",
    "                             nrows=1,\n",
    "                             figure=fig)\n",
    "    \n",
    "    fig.add_subplot(spec[0, 0])\n",
    "    \n",
    "    plt.grid(False)\n",
    "    plt.xticks([])\n",
    "    plt.yticks([])\n",
    "\n",
    "    plt.imshow(image, cmap = plt.cm.binary)\n",
    "\n",
    "    predicted_label = np.argmax(predictions)\n",
    "\n",
    "    color = 'blue'\n",
    "    if predicted_label != true_label:\n",
    "        color = 'red'\n",
    "\n",
    "    disp_pred_label = labels[predicted_label]\n",
    "    disp_pred = round(100*np.max(predictions))/100\n",
    "    disp_true_label = labels[true_label]\n",
    "    plt.xlabel(\n",
    "        f\"Pred.: {disp_pred_label}, proba: {disp_pred}, true label: {disp_true_label}\",\n",
    "        color=color)\n",
    "\n",
    "    # --- Second subplot\n",
    "    fig.add_subplot(spec[0, 1])\n",
    "    \n",
    "    plt.grid(False)\n",
    "    plt.xticks(range(10))\n",
    "    \n",
    "    plt_bar = plt.bar(range(len(labels)),\n",
    "                       predictions,\n",
    "                       color=\"#777777\")\n",
    "    \n",
    "    plt_bar[predicted_label].set_color('red')\n",
    "    plt_bar[true_label].set_color('blue')\n",
    "    \n",
    "    locs, _ = plt.xticks()\n",
    "    plt.xticks(ticks=locs, labels=labels, rotation=45)\n",
    "    \n",
    "    plt.show()"
   ]
  },
  {
   "cell_type": "code",
   "execution_count": 63,
   "metadata": {},
   "outputs": [
    {
     "data": {
      "image/png": "[encoded data removed]",
      "text/plain": [
       "<Figure size 576x288 with 2 Axes>"
      ]
     },
     "metadata": {
      "needs_background": "light"
     },
     "output_type": "display_data"
    }
   ],
   "source": [
    "idx = np.random.randint(0, len(images_test), 1)[0]\n",
    "\n",
    "plot_image_and_probas(images_test[idx],\n",
    "                      predictions[idx],\n",
    "                      np.argmax(labels_test[idx]),\n",
    "                      class_names)"
   ]
  },
  {
   "cell_type": "markdown",
   "metadata": {},
   "source": [
    "### 6. Analyse des limites du modèle\n",
    "\n",
    "Le jeu de données test va nous servir à étudier où le modèle est moins performant :\n",
    "- est-ce pour toutes les classes ?\n",
    "- ou sont-ce seulement certaines classes qui sont plus dures à modéliser ?\n",
    "\n",
    "Pour cela, nous allons utiliser la matrice de confusion introduite à la session 4."
   ]
  },
  {
   "cell_type": "code",
   "execution_count": 28,
   "metadata": {},
   "outputs": [],
   "source": [
    "confusion_matrix = tf.math.confusion_matrix(\n",
    "    np.argmax(labels_test, axis=1),\n",
    "    np.argmax(predictions, axis=1),\n",
    "    num_classes=10\n",
    ")\n",
    "confusion_matrix = np.array(confusion_matrix)"
   ]
  },
  {
   "cell_type": "code",
   "execution_count": 29,
   "metadata": {},
   "outputs": [
    {
     "data": {
      "text/plain": [
       "array([[ 974,    0,    0,    0,    1,    0,    3,    1,    1,    0],\n",
       "       [   0, 1130,    1,    1,    0,    0,    1,    2,    0,    0],\n",
       "       [   1,    1, 1020,    2,    0,    0,    0,    7,    1,    0],\n",
       "       [   0,    0,    1, 1007,    0,    1,    0,    0,    1,    0],\n",
       "       [   0,    0,    0,    0,  976,    0,    0,    0,    0,    6],\n",
       "       [   0,    0,    1,    5,    0,  883,    1,    1,    0,    1],\n",
       "       [   1,    2,    0,    0,    2,    3,  949,    0,    1,    0],\n",
       "       [   0,    2,    4,    1,    0,    1,    0, 1019,    1,    0],\n",
       "       [   2,    0,    1,    1,    1,    1,    0,    2,  962,    4],\n",
       "       [   0,    0,    0,    1,    2,    3,    0,    5,    1,  997]],\n",
       "      dtype=int32)"
      ]
     },
     "execution_count": 29,
     "metadata": {},
     "output_type": "execute_result"
    }
   ],
   "source": [
    "confusion_matrix"
   ]
  },
  {
   "cell_type": "markdown",
   "metadata": {},
   "source": [
    "Même s'il n'est pas trop compliqué de lire cette matrice, il est beaucoup plus parlant de la représenter sous forme d'image :"
   ]
  },
  {
   "cell_type": "code",
   "execution_count": 30,
   "metadata": {},
   "outputs": [
    {
     "data": {
      "image/png": "[encoded data removed]",
      "text/plain": [
       "<Figure size 864x720 with 2 Axes>"
      ]
     },
     "metadata": {
      "needs_background": "light"
     },
     "output_type": "display_data"
    }
   ],
   "source": [
    "df_cm = pd.DataFrame(np.array(confusion_matrix),\n",
    "                     index = class_names,\n",
    "                     columns = class_names)\n",
    "plt.figure(figsize = (12,10))\n",
    "sn.heatmap(df_cm, annot=True, fmt=\"G\");"
   ]
  },
  {
   "cell_type": "markdown",
   "metadata": {},
   "source": [
    "Observations : A VOUS !"
   ]
  },
  {
   "cell_type": "code",
   "execution_count": null,
   "metadata": {},
   "outputs": [],
   "source": []
  }
 ],
 "metadata": {
  "kernelspec": {
   "display_name": "Python 3",
   "language": "python",
   "name": "python3"
  },
  "language_info": {
   "codemirror_mode": {
    "name": "ipython",
    "version": 3
   },
   "file_extension": ".py",
   "mimetype": "text/x-python",
   "name": "python",
   "nbconvert_exporter": "python",
   "pygments_lexer": "ipython3",
   "version": "3.8.2"
  }
 },
 "nbformat": 4,
 "nbformat_minor": 4
}
