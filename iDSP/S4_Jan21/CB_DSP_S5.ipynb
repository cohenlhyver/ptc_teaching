{
 "cells": [
  {
   "cell_type": "markdown",
   "metadata": {},
   "source": [
    "# Career Booster Python & Data Science\n",
    "\n",
    "## Session 5 : Introduction au Deep Learning #2\n",
    "\n",
    "*** \n",
    "\n",
    "\n",
    "Ce notebook est dédié à une implémentation d'un réseau de neurones profond basé sur des couches de convolution. Il s'agit de la correction de l'exercice énoncé à la fin de la session 4."
   ]
  },
  {
   "cell_type": "markdown",
   "metadata": {},
   "source": [
    "## Import des bibliothèques"
   ]
  },
  {
   "cell_type": "code",
   "execution_count": 1,
   "metadata": {},
   "outputs": [],
   "source": [
    "# --- Manipulation de données\n",
    "import numpy as np\n",
    "import pandas as pd\n",
    "\n",
    "# --- Display\n",
    "from IPython.display import Image\n",
    "import matplotlib.pyplot as plt\n",
    "import matplotlib.gridspec as gridspec\n",
    "import seaborn as sn\n",
    "\n",
    "# --- Machine Learning\n",
    "from sklearn.model_selection import train_test_split\n",
    "import tensorflow as tf\n",
    "from tensorflow import keras\n",
    "from tensorflow.keras import layers"
   ]
  },
  {
   "cell_type": "markdown",
   "metadata": {},
   "source": [
    "# A. Les données\n",
    "\n",
    "Les données sont issues du dataset *MNIST*, provenant du [NIST][1] (**N**ational **I**nstitute of **S**tandards and **T**echnology).\n",
    "Ce dataset consiste en 70 000 images de chiffres écrits à la main, images en noir & blanc et de taille 28x28 pixels (donc plutôt basse résolution). Ce jeu de données a été intensément utilisé par la communauté de Data Science pour mettre au point des modèles les plus performants possible, jusqu'à atteindre un taux d'erreur de 0.17% !\n",
    "\n",
    "L'objectif va être de créer un modèle apprenant à classer ces images automatiquement. Une fois le modèle appris, nous pourrons classer des images nouvelles, c'est-à-dire des images que le modèle n'aura jamais vu !\n",
    "\n",
    "[1]: https://en.wikipedia.org/wiki/MNIST_database"
   ]
  },
  {
   "cell_type": "markdown",
   "metadata": {},
   "source": [
    "### 1. Import des données\n",
    "\n",
    "Les données sont directement accessibles via Tensorflow / Keras. La première fois que vous lancez ce notebook, vous aurez à télécharger ces données (et ce téléchargement est fait automatiquement, vous n'avez rien à faire). Ensuite, ce ne sera plus la peine."
   ]
  },
  {
   "cell_type": "code",
   "execution_count": 13,
   "metadata": {},
   "outputs": [],
   "source": [
    "(images_train, labels_train), (images_test, labels_test) = keras.datasets.mnist.load_data()"
   ]
  },
  {
   "cell_type": "markdown",
   "metadata": {},
   "source": [
    "### 2. Etude préliminaire des données"
   ]
  },
  {
   "cell_type": "markdown",
   "metadata": {},
   "source": [
    "Keras nous permet directement d'accéder à une séparation de ce jeu de données en *deux sous jeux de données* : \n",
    "- un qui sera utilisé pour l'apprentissage : 60 000 images de 28 par 28 pixels\n",
    "- un qui sera utilisé our le test : 10 000 images de 28 par 28 pixels également\n",
    "\n",
    "Le premier sera donc utilisé pour **entraîner** le modèle tandis que le second sera utilisé pour **confronter** le modèle à des données qu'il n'a jamais vu. Nous pourrons donc réellement avoir une idée de la performance du modèle."
   ]
  },
  {
   "cell_type": "code",
   "execution_count": 3,
   "metadata": {},
   "outputs": [
    {
     "data": {
      "text/plain": [
       "(60000, 28, 28)"
      ]
     },
     "execution_count": 3,
     "metadata": {},
     "output_type": "execute_result"
    }
   ],
   "source": [
    "images_train.shape"
   ]
  },
  {
   "cell_type": "code",
   "execution_count": 4,
   "metadata": {},
   "outputs": [
    {
     "data": {
      "text/plain": [
       "(60000,)"
      ]
     },
     "execution_count": 4,
     "metadata": {},
     "output_type": "execute_result"
    }
   ],
   "source": [
    "labels_train.shape"
   ]
  },
  {
   "cell_type": "markdown",
   "metadata": {},
   "source": [
    "Les données *target* (le *y_train* ici) correspondent aux classes qu'il va falloir apprendre puis prédire."
   ]
  },
  {
   "cell_type": "code",
   "execution_count": 14,
   "metadata": {},
   "outputs": [
    {
     "data": {
      "text/plain": [
       "array([5, 0, 4, ..., 5, 6, 8], dtype=uint8)"
      ]
     },
     "execution_count": 14,
     "metadata": {},
     "output_type": "execute_result"
    }
   ],
   "source": [
    "labels_train"
   ]
  },
  {
   "cell_type": "code",
   "execution_count": 6,
   "metadata": {},
   "outputs": [],
   "source": [
    "num_classes = 10\n",
    "class_names = [0, 1, 2, 3, 4, 5, 6, 7, 8, 9]\n",
    "input_shape = (28, 28, 1)"
   ]
  },
  {
   "cell_type": "code",
   "execution_count": 20,
   "metadata": {},
   "outputs": [
    {
     "name": "stdout",
     "output_type": "stream",
     "text": [
      "images_train shape: (60000, 28, 28, 1)\n"
     ]
    }
   ],
   "source": [
    "images_train = images_train.astype(\"float32\") / 255\n",
    "images_test = images_test.astype(\"float32\") / 255\n",
    "\n",
    "# Make sure images have shape (28, 28, 1)\n",
    "images_train = np.expand_dims(images_train, -1)\n",
    "images_test = np.expand_dims(images_test, -1)\n",
    "print(\"images_train shape:\", images_train.shape)"
   ]
  },
  {
   "cell_type": "code",
   "execution_count": 21,
   "metadata": {},
   "outputs": [],
   "source": [
    "labels_train = keras.utils.to_categorical(labels_train, num_classes)\n",
    "labels_test = keras.utils.to_categorical(labels_test, num_classes)"
   ]
  },
  {
   "cell_type": "code",
   "execution_count": 24,
   "metadata": {},
   "outputs": [
    {
     "data": {
      "text/plain": [
       "array([0., 0., 0., 0., 1., 0., 0., 0., 0., 0.], dtype=float32)"
      ]
     },
     "execution_count": 24,
     "metadata": {},
     "output_type": "execute_result"
    }
   ],
   "source": [
    "labels_train[0]"
   ]
  },
  {
   "cell_type": "markdown",
   "metadata": {},
   "source": [
    "### 3. Visualisation\n",
    "\n",
    "Il est indispensable de toujours essayer (lorsque c'est possible) de visualiser les données que nous allons avoir à traiter."
   ]
  },
  {
   "cell_type": "code",
   "execution_count": 26,
   "metadata": {},
   "outputs": [
    {
     "data": {
      "image/png": "[encoded data removed]",
      "text/plain": [
       "<Figure size 720x720 with 25 Axes>"
      ]
     },
     "metadata": {},
     "output_type": "display_data"
    }
   ],
   "source": [
    "nb_images = images_train.shape[0]\n",
    "\n",
    "random_indices = np.random.randint(0, nb_images, 25)\n",
    "\n",
    "plt.figure(figsize=(10,10))\n",
    "\n",
    "for iCpt, iIdx in enumerate(random_indices):\n",
    "    plt.subplot(5, 5, iCpt+1)\n",
    "    plt.xticks([])\n",
    "    plt.yticks([])\n",
    "    plt.grid(False)\n",
    "    plt.imshow(images_train[iIdx][:, :, 0], cmap=plt.cm.binary)\n",
    "    plt.xlabel(labels_train[iIdx]);\n",
    "\n",
    "plt.show()"
   ]
  },
  {
   "cell_type": "markdown",
   "metadata": {},
   "source": [
    "## B. L'apprentissage\n",
    "\n",
    "Nous allons ici utiliser un modèle **séquentiel** simple, c'est-à-dire un modèle composé :\n",
    "- d'une couche d'entrée : c'est par là que les données vont entrer dans le modèle. Il y aura **28x28 neurones** d'entrée puisque nos images ont une dimension de 28 par 28 pixels\n",
    "- d'une seule couche cachée contenant 128 neurones\n",
    "- d'une couche de sortie : c'est par là que les prédictions du modèle vont être récupérées. Il y aura **10 neurones** ici puisqu'il y a 10 classes de vêtements à prédire."
   ]
  },
  {
   "cell_type": "markdown",
   "metadata": {},
   "source": [
    "### 1. Création du modèle\n",
    "\n",
    "Nous créons le modèle via l'API de Keras, désormais complètement intégrée à Tensorflow (développé par Google).\n",
    "Pour ce faire, nous additionnons les couches les unes aux autres, chacune avec des propriétés particulières."
   ]
  },
  {
   "cell_type": "code",
   "execution_count": 27,
   "metadata": {},
   "outputs": [],
   "source": [
    "model = tf.keras.Sequential(\n",
    "    [\n",
    "        keras.Input(shape=input_shape),\n",
    "        layers.Conv2D(32, kernel_size=(3, 3), activation=\"relu\"),\n",
    "        layers.MaxPooling2D(pool_size=(2, 2)),\n",
    "        layers.Conv2D(64, kernel_size=(3, 3), activation=\"relu\"),\n",
    "        layers.MaxPooling2D(pool_size=(2, 2)),\n",
    "        layers.Flatten(),\n",
    "        layers.Dropout(0.5),\n",
    "        layers.Dense(num_classes, activation=\"softmax\"),\n",
    "    ]\n",
    ")"
   ]
  },
  {
   "cell_type": "markdown",
   "metadata": {},
   "source": [
    "Jetons un coup d'oeil sur ce modèle :"
   ]
  },
  {
   "cell_type": "code",
   "execution_count": 28,
   "metadata": {},
   "outputs": [
    {
     "name": "stdout",
     "output_type": "stream",
     "text": [
      "Model: \"sequential\"\n",
      "_________________________________________________________________\n",
      "Layer (type)                 Output Shape              Param #   \n",
      "=================================================================\n",
      "conv2d (Conv2D)              (None, 26, 26, 32)        320       \n",
      "_________________________________________________________________\n",
      "max_pooling2d (MaxPooling2D) (None, 13, 13, 32)        0         \n",
      "_________________________________________________________________\n",
      "conv2d_1 (Conv2D)            (None, 11, 11, 64)        18496     \n",
      "_________________________________________________________________\n",
      "max_pooling2d_1 (MaxPooling2 (None, 5, 5, 64)          0         \n",
      "_________________________________________________________________\n",
      "flatten (Flatten)            (None, 1600)              0         \n",
      "_________________________________________________________________\n",
      "dropout (Dropout)            (None, 1600)              0         \n",
      "_________________________________________________________________\n",
      "dense (Dense)                (None, 10)                16010     \n",
      "=================================================================\n",
      "Total params: 34,826\n",
      "Trainable params: 34,826\n",
      "Non-trainable params: 0\n",
      "_________________________________________________________________\n"
     ]
    }
   ],
   "source": [
    "model.summary()"
   ]
  },
  {
   "cell_type": "markdown",
   "metadata": {},
   "source": [
    "Chaque couches (*layer*) possède un vecteur de poids ainsi qu'un vecteur de biais. C'est cette architecture qui permet l'apprentissage et ce sont ces valeurs (principalement) que le modèle va essayer de modifier lors de l'apprentissage afin que les prédictions que le modèle effectue soient de plus en plus proches de la référence qui lui ai donné.\n",
    "\n",
    "A noter que par défaut, les biais sont tous initialisés à 0 en début d'apprentissage."
   ]
  },
  {
   "cell_type": "code",
   "execution_count": null,
   "metadata": {},
   "outputs": [],
   "source": [
    "model.layers[0].weights"
   ]
  },
  {
   "cell_type": "markdown",
   "metadata": {},
   "source": [
    "Le modèle étant maintenant créé, il est nécessaire de le compiler."
   ]
  },
  {
   "cell_type": "code",
   "execution_count": 29,
   "metadata": {},
   "outputs": [],
   "source": [
    "model.compile(\n",
    "    loss=\"categorical_crossentropy\",\n",
    "    optimizer=\"adam\",\n",
    "    metrics=[\"accuracy\"]\n",
    ")"
   ]
  },
  {
   "cell_type": "markdown",
   "metadata": {},
   "source": [
    "### 2. Entraînement du modèle\n",
    "\n",
    "Nous pouvons maintenant entraîner le modèle avec comme arguments :\n",
    "- *X_train* : les données d'entraînement, c'est-à-dire 48 000 images\n",
    "- *y_train* : les 48 000 labels correspondant\n",
    "- *epochs* : un nombre d'itération, c'est-à-dire de fois où le modèle va effectuer une passe sur toutes les données d'apprentissage\n",
    "- *validation_data* : les données de validation, elles aussi composées d'images et de labels correspondants\n",
    "- *callbacks* : une liste des fonctions à appeler à chaque fin d'époques / d'itérations."
   ]
  },
  {
   "cell_type": "code",
   "execution_count": 30,
   "metadata": {},
   "outputs": [
    {
     "name": "stdout",
     "output_type": "stream",
     "text": [
      "Epoch 1/15\n",
      "422/422 [==============================] - 20s 46ms/step - loss: 0.7626 - accuracy: 0.7627 - val_loss: 0.0848 - val_accuracy: 0.9783\n",
      "Epoch 2/15\n",
      "422/422 [==============================] - 20s 48ms/step - loss: 0.1266 - accuracy: 0.9617 - val_loss: 0.0573 - val_accuracy: 0.9832\n",
      "Epoch 3/15\n",
      "422/422 [==============================] - 20s 48ms/step - loss: 0.0920 - accuracy: 0.9721 - val_loss: 0.0485 - val_accuracy: 0.9860\n",
      "Epoch 4/15\n",
      "422/422 [==============================] - 20s 47ms/step - loss: 0.0714 - accuracy: 0.9781 - val_loss: 0.0419 - val_accuracy: 0.9882\n",
      "Epoch 5/15\n",
      "422/422 [==============================] - 19s 46ms/step - loss: 0.0651 - accuracy: 0.9805 - val_loss: 0.0424 - val_accuracy: 0.9882\n",
      "Epoch 6/15\n",
      "422/422 [==============================] - 20s 48ms/step - loss: 0.0560 - accuracy: 0.9824 - val_loss: 0.0392 - val_accuracy: 0.9883\n",
      "Epoch 7/15\n",
      "422/422 [==============================] - 20s 48ms/step - loss: 0.0529 - accuracy: 0.9831 - val_loss: 0.0344 - val_accuracy: 0.9908\n",
      "Epoch 8/15\n",
      "422/422 [==============================] - 19s 46ms/step - loss: 0.0473 - accuracy: 0.9847 - val_loss: 0.0316 - val_accuracy: 0.9910\n",
      "Epoch 9/15\n",
      "422/422 [==============================] - 20s 48ms/step - loss: 0.0468 - accuracy: 0.9852 - val_loss: 0.0309 - val_accuracy: 0.9917\n",
      "Epoch 10/15\n",
      "422/422 [==============================] - 21s 49ms/step - loss: 0.0417 - accuracy: 0.9861 - val_loss: 0.0309 - val_accuracy: 0.9905\n",
      "Epoch 11/15\n",
      "422/422 [==============================] - 20s 46ms/step - loss: 0.0425 - accuracy: 0.9873 - val_loss: 0.0323 - val_accuracy: 0.9917\n",
      "Epoch 12/15\n",
      "422/422 [==============================] - 20s 48ms/step - loss: 0.0408 - accuracy: 0.9868 - val_loss: 0.0302 - val_accuracy: 0.9923\n",
      "Epoch 13/15\n",
      "422/422 [==============================] - 20s 47ms/step - loss: 0.0358 - accuracy: 0.9887 - val_loss: 0.0305 - val_accuracy: 0.9925\n",
      "Epoch 14/15\n",
      "422/422 [==============================] - 20s 48ms/step - loss: 0.0371 - accuracy: 0.9880 - val_loss: 0.0303 - val_accuracy: 0.9917\n",
      "Epoch 15/15\n",
      "422/422 [==============================] - 20s 47ms/step - loss: 0.0355 - accuracy: 0.9876 - val_loss: 0.0309 - val_accuracy: 0.9928\n"
     ]
    }
   ],
   "source": [
    "batch_size = 128\n",
    "nb_epochs = 15\n",
    "validation_split = 0.1\n",
    "\n",
    "history = model.fit(images_train,\n",
    "                    labels_train,\n",
    "                    batch_size=batch_size,\n",
    "                    epochs=nb_epochs,\n",
    "                    validation_split=validation_split)"
   ]
  },
  {
   "cell_type": "code",
   "execution_count": 31,
   "metadata": {},
   "outputs": [
    {
     "data": {
      "image/png": "[encoded data removed]",
      "text/plain": [
       "<Figure size 432x288 with 1 Axes>"
      ]
     },
     "metadata": {
      "needs_background": "light"
     },
     "output_type": "display_data"
    }
   ],
   "source": [
    "plt.plot(range(1, nb_epochs+1), history.history[\"loss\"])\n",
    "plt.plot(range(1, nb_epochs+1), history.history[\"val_loss\"])\n",
    "plt.show()"
   ]
  },
  {
   "cell_type": "code",
   "execution_count": 32,
   "metadata": {},
   "outputs": [
    {
     "data": {
      "image/png": "[encoded data removed]",
      "text/plain": [
       "<Figure size 432x288 with 1 Axes>"
      ]
     },
     "metadata": {
      "needs_background": "light"
     },
     "output_type": "display_data"
    }
   ],
   "source": [
    "plt.plot(range(1, nb_epochs+1), history.history[\"accuracy\"])\n",
    "plt.plot(range(1, nb_epochs+1), history.history[\"val_accuracy\"])\n",
    "plt.show()"
   ]
  },
  {
   "cell_type": "markdown",
   "metadata": {},
   "source": [
    "### 3. Visualisation des résultats\n",
    "\n",
    "L'apprentissage est maintenant terminé. Nous pouvons visualiser l'évolution des métriques que nous avons définies plus haut :"
   ]
  },
  {
   "cell_type": "code",
   "execution_count": 33,
   "metadata": {},
   "outputs": [
    {
     "data": {
      "image/png": "[encoded data removed]",
      "text/plain": [
       "<Figure size 576x360 with 1 Axes>"
      ]
     },
     "metadata": {
      "needs_background": "light"
     },
     "output_type": "display_data"
    }
   ],
   "source": [
    "pd.DataFrame(history.history).plot(figsize=(8, 5))\n",
    "plt.grid(True)\n",
    "plt.gca().set_ylim(0, 1)\n",
    "plt.show()"
   ]
  },
  {
   "cell_type": "markdown",
   "metadata": {},
   "source": [
    "### 4. Evaluation du modèle\n",
    "\n",
    "Le modèle est entraîné et nous considérons que les valeurs de *loss* sont suffisament hautes pour arrêter l'apprentissage. Nous pouvons donc désormais *utiliser* ce modèle pour faire de la prédiction.\n",
    "\n",
    "Nous allons alors commencer par effectuer des prédictions sur le jeu de données test, jeu de données, pour rappel, que le modèle n'a **jamais** vu mais pour lequel nous connaissons le label à prédire — c'est tout l'intérêt du jeu de test !"
   ]
  },
  {
   "cell_type": "code",
   "execution_count": 34,
   "metadata": {},
   "outputs": [
    {
     "name": "stdout",
     "output_type": "stream",
     "text": [
      "313/313 - 0s - loss: 0.0266 - accuracy: 0.9911\n"
     ]
    }
   ],
   "source": [
    "test_loss, test_acc = model.evaluate(images_test,  labels_test, verbose=2)"
   ]
  },
  {
   "cell_type": "markdown",
   "metadata": {},
   "source": [
    "### 5. Prédictions\n",
    "\n",
    "On effectue une prédiction sur trois images du jeu de données de test (jamais vue auparavant par le modèle)"
   ]
  },
  {
   "cell_type": "code",
   "execution_count": 45,
   "metadata": {},
   "outputs": [
    {
     "data": {
      "text/plain": [
       "array([[7.9979895e-10, 2.4833011e-10, 4.5230468e-06, 8.1523262e-07,\n",
       "        5.3266836e-13, 4.7496368e-10, 3.7133150e-17, 9.9999452e-01,\n",
       "        9.8361239e-09, 1.3749195e-07]], dtype=float32)"
      ]
     },
     "execution_count": 45,
     "metadata": {},
     "output_type": "execute_result"
    }
   ],
   "source": [
    "X_new = images_test[:1]\n",
    "y_proba = model.predict(X_new)\n",
    "y_proba"
   ]
  },
  {
   "cell_type": "markdown",
   "metadata": {},
   "source": [
    "Si l'on souhaite avoir des classes prédites plutôt que des probas d'appartenance"
   ]
  },
  {
   "cell_type": "code",
   "execution_count": 49,
   "metadata": {},
   "outputs": [],
   "source": [
    "probability_model = tf.keras.Sequential([model, \n",
    "                                         tf.keras.layers.Softmax()])\n",
    "\n",
    "#predictions = probability_model.predict(images_test)\n",
    "predictions = model.predict(images_test)"
   ]
  },
  {
   "cell_type": "code",
   "execution_count": 65,
   "metadata": {},
   "outputs": [],
   "source": [
    "predictions = model.predict(images_test)"
   ]
  },
  {
   "cell_type": "code",
   "execution_count": 50,
   "metadata": {},
   "outputs": [
    {
     "data": {
      "text/plain": [
       "array([7.9980045e-10, 2.4833011e-10, 4.5230468e-06, 8.1523183e-07,\n",
       "       5.3267037e-13, 4.7496368e-10, 3.7133150e-17, 9.9999452e-01,\n",
       "       9.8361239e-09, 1.3749181e-07], dtype=float32)"
      ]
     },
     "execution_count": 50,
     "metadata": {},
     "output_type": "execute_result"
    }
   ],
   "source": [
    "predictions[0]"
   ]
  },
  {
   "cell_type": "code",
   "execution_count": 51,
   "metadata": {},
   "outputs": [
    {
     "data": {
      "text/plain": [
       "7"
      ]
     },
     "execution_count": 51,
     "metadata": {},
     "output_type": "execute_result"
    }
   ],
   "source": [
    "np.argmax(predictions[0])"
   ]
  },
  {
   "cell_type": "code",
   "execution_count": 52,
   "metadata": {},
   "outputs": [
    {
     "data": {
      "text/plain": [
       "array([0., 0., 0., 0., 0., 0., 0., 1., 0., 0.], dtype=float32)"
      ]
     },
     "execution_count": 52,
     "metadata": {},
     "output_type": "execute_result"
    }
   ],
   "source": [
    "labels_test[0]"
   ]
  },
  {
   "cell_type": "code",
   "execution_count": 53,
   "metadata": {},
   "outputs": [],
   "source": [
    "def plot_image_and_probas(\n",
    "    image,\n",
    "    predictions,\n",
    "    true_label,\n",
    "    labels\n",
    "):\n",
    "    \"\"\"Description\n",
    "    \n",
    "    Parameters\n",
    "    ----------\n",
    "    image : 2D matrix\n",
    "    \n",
    "    predictions : 2D matrix\n",
    "\n",
    "    true_label : \n",
    "    \n",
    "    labels : list of str\n",
    "        All possible labels\n",
    "    \n",
    "    Returns\n",
    "    -------\n",
    "    \"\"\"\n",
    "    fig = plt.figure(figsize=(8, 4),\n",
    "                     constrained_layout=True)\n",
    "    \n",
    "    spec = gridspec.GridSpec(ncols=2,\n",
    "                             nrows=1,\n",
    "                             figure=fig)\n",
    "    \n",
    "    fig.add_subplot(spec[0, 0])\n",
    "    \n",
    "    plt.grid(False)\n",
    "    plt.xticks([])\n",
    "    plt.yticks([])\n",
    "\n",
    "    plt.imshow(image, cmap = plt.cm.binary)\n",
    "\n",
    "    predicted_label = np.argmax(predictions)\n",
    "\n",
    "    color = 'blue'\n",
    "    if predicted_label != true_label:\n",
    "        color = 'red'\n",
    "\n",
    "    disp_pred_label = labels[predicted_label]\n",
    "    disp_pred = round(100*np.max(predictions))/100\n",
    "    disp_true_label = labels[true_label]\n",
    "    plt.xlabel(\n",
    "        f\"Pred.: {disp_pred_label}, proba: {disp_pred}, true label: {disp_true_label}\",\n",
    "        color=color)\n",
    "\n",
    "    # --- Second subplot\n",
    "    fig.add_subplot(spec[0, 1])\n",
    "    \n",
    "    plt.grid(False)\n",
    "    plt.xticks(range(10))\n",
    "    \n",
    "    plt_bar = plt.bar(range(len(labels)),\n",
    "                       predictions,\n",
    "                       color=\"#777777\")\n",
    "    \n",
    "    plt_bar[predicted_label].set_color('red')\n",
    "    plt_bar[true_label].set_color('blue')\n",
    "    \n",
    "    locs, _ = plt.xticks()\n",
    "    plt.xticks(ticks=locs, labels=labels, rotation=45)\n",
    "    \n",
    "    plt.show()"
   ]
  },
  {
   "cell_type": "code",
   "execution_count": 79,
   "metadata": {},
   "outputs": [
    {
     "data": {
      "image/png": "[encoded data removed]",
      "text/plain": [
       "<Figure size 576x288 with 2 Axes>"
      ]
     },
     "metadata": {
      "needs_background": "light"
     },
     "output_type": "display_data"
    }
   ],
   "source": [
    "idx = np.random.randint(0, len(images_test), 1)[0]\n",
    "\n",
    "plot_image_and_probas(images_test[idx][:, :, 0],\n",
    "                      predictions[idx],\n",
    "                      np.argmax(labels_test[idx]),\n",
    "                      class_names)"
   ]
  },
  {
   "cell_type": "markdown",
   "metadata": {},
   "source": [
    "### 6. Analyse des limites du modèle\n",
    "\n",
    "Le jeu de données test va nous servir à étudier où le modèle est moins performant :\n",
    "- est-ce pour toutes les classes ?\n",
    "- ou sont-ce seulement certaines classes qui sont plus dures à modéliser ?\n",
    "\n",
    "Pour cela, nous allons utiliser la matrice de confusion introduite à la session 4."
   ]
  },
  {
   "cell_type": "code",
   "execution_count": 80,
   "metadata": {},
   "outputs": [],
   "source": [
    "confusion_matrix = tf.math.confusion_matrix(\n",
    "    np.argmax(labels_test, axis=1),\n",
    "    np.argmax(predictions, axis=1),\n",
    "    num_classes=10\n",
    ")\n",
    "confusion_matrix = np.array(confusion_matrix)"
   ]
  },
  {
   "cell_type": "code",
   "execution_count": 81,
   "metadata": {},
   "outputs": [
    {
     "data": {
      "text/plain": [
       "array([[ 978,    0,    0,    0,    0,    0,    0,    1,    1,    0],\n",
       "       [   0, 1132,    2,    0,    0,    0,    1,    0,    0,    0],\n",
       "       [   1,    2, 1023,    0,    1,    0,    0,    4,    1,    0],\n",
       "       [   0,    0,    1, 1003,    0,    4,    0,    0,    2,    0],\n",
       "       [   0,    0,    0,    0,  973,    0,    2,    1,    2,    4],\n",
       "       [   1,    0,    0,    4,    0,  885,    1,    0,    1,    0],\n",
       "       [   3,    2,    1,    0,    1,    2,  946,    0,    3,    0],\n",
       "       [   0,    3,    7,    1,    0,    1,    0, 1013,    1,    2],\n",
       "       [   1,    0,    2,    0,    0,    1,    0,    0,  969,    1],\n",
       "       [   2,    2,    0,    1,    2,    5,    0,    6,    2,  989]],\n",
       "      dtype=int32)"
      ]
     },
     "execution_count": 81,
     "metadata": {},
     "output_type": "execute_result"
    }
   ],
   "source": [
    "confusion_matrix"
   ]
  },
  {
   "cell_type": "markdown",
   "metadata": {},
   "source": [
    "Même s'il n'est pas trop compliqué de lire cette matrice, il est beaucoup plus parlant de la représenter sous forme d'image :"
   ]
  },
  {
   "cell_type": "code",
   "execution_count": 82,
   "metadata": {},
   "outputs": [
    {
     "data": {
      "image/png": "[encoded data removed]",
      "text/plain": [
       "<Figure size 864x720 with 2 Axes>"
      ]
     },
     "metadata": {
      "needs_background": "light"
     },
     "output_type": "display_data"
    }
   ],
   "source": [
    "df_cm = pd.DataFrame(np.array(confusion_matrix),\n",
    "                     index = class_names,\n",
    "                     columns = class_names)\n",
    "plt.figure(figsize = (12,10))\n",
    "sn.heatmap(df_cm, annot=True, fmt=\"G\");"
   ]
  }
 ],
 "metadata": {
  "kernelspec": {
   "display_name": "Python 3",
   "language": "python",
   "name": "python3"
  },
  "language_info": {
   "codemirror_mode": {
    "name": "ipython",
    "version": 3
   },
   "file_extension": ".py",
   "mimetype": "text/x-python",
   "name": "python",
   "nbconvert_exporter": "python",
   "pygments_lexer": "ipython3",
   "version": "3.8.2"
  }
 },
 "nbformat": 4,
 "nbformat_minor": 4
}
